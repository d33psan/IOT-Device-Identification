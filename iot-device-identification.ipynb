{
 "cells": [
  {
   "cell_type": "markdown",
   "metadata": {
    "execution": {
     "iopub.execute_input": "2022-03-01T14:55:17.846199Z",
     "iopub.status.busy": "2022-03-01T14:55:17.84568Z",
     "iopub.status.idle": "2022-03-01T14:55:17.851044Z",
     "shell.execute_reply": "2022-03-01T14:55:17.849648Z",
     "shell.execute_reply.started": "2022-03-01T14:55:17.846144Z"
    },
    "id": "2ead2d5e"
   },
   "source": [
    "# IOT Device Identification"
   ]
  },
  {
   "cell_type": "markdown",
   "metadata": {},
   "source": [
    "## Computing Bias and Variance"
   ]
  },
  {
   "cell_type": "code",
   "execution_count": 271,
   "metadata": {},
   "outputs": [
    {
     "data": {
      "text/html": [
       "<div>\n",
       "<style scoped>\n",
       "    .dataframe tbody tr th:only-of-type {\n",
       "        vertical-align: middle;\n",
       "    }\n",
       "\n",
       "    .dataframe tbody tr th {\n",
       "        vertical-align: top;\n",
       "    }\n",
       "\n",
       "    .dataframe thead th {\n",
       "        text-align: right;\n",
       "    }\n",
       "</style>\n",
       "<table border=\"1\" class=\"dataframe\">\n",
       "  <thead>\n",
       "    <tr style=\"text-align: right;\">\n",
       "      <th></th>\n",
       "      <th>ack</th>\n",
       "      <th>ack_A</th>\n",
       "      <th>ack_B</th>\n",
       "      <th>bytes</th>\n",
       "      <th>bytes_A</th>\n",
       "      <th>bytes_A_B_ratio</th>\n",
       "      <th>bytes_B</th>\n",
       "      <th>ds_field_A</th>\n",
       "      <th>ds_field_B</th>\n",
       "      <th>duration</th>\n",
       "      <th>...</th>\n",
       "      <th>suffix_is_co.il</th>\n",
       "      <th>suffix_is_com</th>\n",
       "      <th>suffix_is_com.sg</th>\n",
       "      <th>suffix_is_else</th>\n",
       "      <th>suffix_is_empty_char_value</th>\n",
       "      <th>suffix_is_googleapis.com</th>\n",
       "      <th>suffix_is_net</th>\n",
       "      <th>suffix_is_org</th>\n",
       "      <th>suffix_is_unresolved</th>\n",
       "      <th>device_category</th>\n",
       "    </tr>\n",
       "  </thead>\n",
       "  <tbody>\n",
       "    <tr>\n",
       "      <th>0</th>\n",
       "      <td>9</td>\n",
       "      <td>5</td>\n",
       "      <td>5</td>\n",
       "      <td>1213</td>\n",
       "      <td>743</td>\n",
       "      <td>0.713924</td>\n",
       "      <td>668</td>\n",
       "      <td>0</td>\n",
       "      <td>0</td>\n",
       "      <td>1.5756</td>\n",
       "      <td>...</td>\n",
       "      <td>0</td>\n",
       "      <td>0</td>\n",
       "      <td>0</td>\n",
       "      <td>1</td>\n",
       "      <td>0</td>\n",
       "      <td>0</td>\n",
       "      <td>0</td>\n",
       "      <td>0</td>\n",
       "      <td>0</td>\n",
       "      <td>security_camera</td>\n",
       "    </tr>\n",
       "    <tr>\n",
       "      <th>1</th>\n",
       "      <td>9</td>\n",
       "      <td>5</td>\n",
       "      <td>5</td>\n",
       "      <td>1213</td>\n",
       "      <td>743</td>\n",
       "      <td>1.806874</td>\n",
       "      <td>668</td>\n",
       "      <td>0</td>\n",
       "      <td>0</td>\n",
       "      <td>0.6890</td>\n",
       "      <td>...</td>\n",
       "      <td>0</td>\n",
       "      <td>0</td>\n",
       "      <td>0</td>\n",
       "      <td>1</td>\n",
       "      <td>0</td>\n",
       "      <td>0</td>\n",
       "      <td>0</td>\n",
       "      <td>0</td>\n",
       "      <td>0</td>\n",
       "      <td>security_camera</td>\n",
       "    </tr>\n",
       "    <tr>\n",
       "      <th>2</th>\n",
       "      <td>9</td>\n",
       "      <td>5</td>\n",
       "      <td>5</td>\n",
       "      <td>1213</td>\n",
       "      <td>743</td>\n",
       "      <td>0.103124</td>\n",
       "      <td>668</td>\n",
       "      <td>0</td>\n",
       "      <td>0</td>\n",
       "      <td>0.9852</td>\n",
       "      <td>...</td>\n",
       "      <td>0</td>\n",
       "      <td>0</td>\n",
       "      <td>0</td>\n",
       "      <td>1</td>\n",
       "      <td>0</td>\n",
       "      <td>0</td>\n",
       "      <td>0</td>\n",
       "      <td>0</td>\n",
       "      <td>0</td>\n",
       "      <td>security_camera</td>\n",
       "    </tr>\n",
       "    <tr>\n",
       "      <th>3</th>\n",
       "      <td>9</td>\n",
       "      <td>5</td>\n",
       "      <td>5</td>\n",
       "      <td>1213</td>\n",
       "      <td>743</td>\n",
       "      <td>1.806874</td>\n",
       "      <td>668</td>\n",
       "      <td>0</td>\n",
       "      <td>0</td>\n",
       "      <td>1.5756</td>\n",
       "      <td>...</td>\n",
       "      <td>0</td>\n",
       "      <td>0</td>\n",
       "      <td>0</td>\n",
       "      <td>1</td>\n",
       "      <td>0</td>\n",
       "      <td>0</td>\n",
       "      <td>0</td>\n",
       "      <td>0</td>\n",
       "      <td>0</td>\n",
       "      <td>security_camera</td>\n",
       "    </tr>\n",
       "    <tr>\n",
       "      <th>4</th>\n",
       "      <td>9</td>\n",
       "      <td>5</td>\n",
       "      <td>5</td>\n",
       "      <td>1213</td>\n",
       "      <td>743</td>\n",
       "      <td>1.806874</td>\n",
       "      <td>668</td>\n",
       "      <td>0</td>\n",
       "      <td>0</td>\n",
       "      <td>1.5756</td>\n",
       "      <td>...</td>\n",
       "      <td>0</td>\n",
       "      <td>0</td>\n",
       "      <td>0</td>\n",
       "      <td>1</td>\n",
       "      <td>0</td>\n",
       "      <td>0</td>\n",
       "      <td>0</td>\n",
       "      <td>0</td>\n",
       "      <td>0</td>\n",
       "      <td>security_camera</td>\n",
       "    </tr>\n",
       "  </tbody>\n",
       "</table>\n",
       "<p>5 rows × 298 columns</p>\n",
       "</div>"
      ],
      "text/plain": [
       "   ack  ack_A  ack_B  bytes  bytes_A  bytes_A_B_ratio  bytes_B  ds_field_A  \\\n",
       "0    9      5      5   1213      743         0.713924      668           0   \n",
       "1    9      5      5   1213      743         1.806874      668           0   \n",
       "2    9      5      5   1213      743         0.103124      668           0   \n",
       "3    9      5      5   1213      743         1.806874      668           0   \n",
       "4    9      5      5   1213      743         1.806874      668           0   \n",
       "\n",
       "   ds_field_B  duration  ...  suffix_is_co.il  suffix_is_com  \\\n",
       "0           0    1.5756  ...                0              0   \n",
       "1           0    0.6890  ...                0              0   \n",
       "2           0    0.9852  ...                0              0   \n",
       "3           0    1.5756  ...                0              0   \n",
       "4           0    1.5756  ...                0              0   \n",
       "\n",
       "   suffix_is_com.sg  suffix_is_else  suffix_is_empty_char_value  \\\n",
       "0                 0               1                           0   \n",
       "1                 0               1                           0   \n",
       "2                 0               1                           0   \n",
       "3                 0               1                           0   \n",
       "4                 0               1                           0   \n",
       "\n",
       "   suffix_is_googleapis.com  suffix_is_net  suffix_is_org  \\\n",
       "0                         0              0              0   \n",
       "1                         0              0              0   \n",
       "2                         0              0              0   \n",
       "3                         0              0              0   \n",
       "4                         0              0              0   \n",
       "\n",
       "   suffix_is_unresolved  device_category  \n",
       "0                     0  security_camera  \n",
       "1                     0  security_camera  \n",
       "2                     0  security_camera  \n",
       "3                     0  security_camera  \n",
       "4                     0  security_camera  \n",
       "\n",
       "[5 rows x 298 columns]"
      ]
     },
     "execution_count": 271,
     "metadata": {},
     "output_type": "execute_result"
    }
   ],
   "source": [
    "# importing the required modules\n",
    "import numpy as np\n",
    "import pandas as pd\n",
    "from mlxtend.evaluate import bias_variance_decomp\n",
    "df = pd.read_csv('iot_device_train.csv')\n",
    "df = df[:300]\n",
    "df.head()"
   ]
  },
  {
   "cell_type": "code",
   "execution_count": 272,
   "metadata": {},
   "outputs": [],
   "source": [
    "# Train Test Split\n",
    "df = df[:300]\n",
    "x_train = df.iloc[:, 1:2].values \n",
    "x_train1 = x_train[:70]\n",
    "\n",
    "y_train = df.iloc[:, 2].values\n",
    "y_train1 = y_train[:70] "
   ]
  },
  {
   "cell_type": "code",
   "execution_count": 273,
   "metadata": {},
   "outputs": [],
   "source": [
    "from sklearn.linear_model import LinearRegression \n",
    "lin = LinearRegression() \n",
    "lin.fit(x_train, y_train)\n",
    "x_test = x_train[70:300]\n",
    "y_test = y_train[70:300]"
   ]
  },
  {
   "cell_type": "code",
   "execution_count": 274,
   "metadata": {},
   "outputs": [],
   "source": [
    "model = LinearRegression()"
   ]
  },
  {
   "cell_type": "code",
   "execution_count": 275,
   "metadata": {},
   "outputs": [
    {
     "name": "stdout",
     "output_type": "stream",
     "text": [
      "Bias: 0.048\n",
      "Variance: 0.010\n"
     ]
    }
   ],
   "source": [
    "mse, bias, var = bias_variance_decomp(model, x_train, y_train, x_test, y_test, loss='mse', num_rounds=200, random_seed=1)\n",
    "print('Bias: %.3f' % bias)\n",
    "print('Variance: %.3f' % var)"
   ]
  },
  {
   "cell_type": "markdown",
   "metadata": {
    "id": "8d04448a"
   },
   "source": [
    "## Standard Imports"
   ]
  },
  {
   "cell_type": "code",
   "execution_count": 276,
   "metadata": {
    "execution": {
     "iopub.execute_input": "2022-03-01T14:55:17.853149Z",
     "iopub.status.busy": "2022-03-01T14:55:17.85244Z",
     "iopub.status.idle": "2022-03-01T14:55:17.86536Z",
     "shell.execute_reply": "2022-03-01T14:55:17.864726Z",
     "shell.execute_reply.started": "2022-03-01T14:55:17.853103Z"
    },
    "id": "7931b4c3"
   },
   "outputs": [],
   "source": [
    "import pandas as pd\n",
    "import numpy as np\n",
    "import matplotlib.pyplot as plt\n",
    "import seaborn as sns"
   ]
  },
  {
   "cell_type": "code",
   "execution_count": 277,
   "metadata": {
    "execution": {
     "iopub.execute_input": "2022-03-01T14:55:17.868213Z",
     "iopub.status.busy": "2022-03-01T14:55:17.867783Z",
     "iopub.status.idle": "2022-03-01T14:55:17.886466Z",
     "shell.execute_reply": "2022-03-01T14:55:17.885302Z",
     "shell.execute_reply.started": "2022-03-01T14:55:17.868172Z"
    }
   },
   "outputs": [],
   "source": [
    "import os\n",
    "for dirname, _, filenames in os.walk('/kaggle/input'):\n",
    "    for filename in filenames:\n",
    "        print(os.path.join(dirname, filename))"
   ]
  },
  {
   "cell_type": "markdown",
   "metadata": {
    "id": "c36e36e1"
   },
   "source": [
    "## Reading the Datasets"
   ]
  },
  {
   "cell_type": "code",
   "execution_count": 278,
   "metadata": {
    "execution": {
     "iopub.execute_input": "2022-03-01T14:55:17.889011Z",
     "iopub.status.busy": "2022-03-01T14:55:17.888664Z",
     "iopub.status.idle": "2022-03-01T14:55:18.105558Z",
     "shell.execute_reply": "2022-03-01T14:55:18.104484Z",
     "shell.execute_reply.started": "2022-03-01T14:55:17.888983Z"
    }
   },
   "outputs": [
    {
     "data": {
      "text/html": [
       "<div>\n",
       "<style scoped>\n",
       "    .dataframe tbody tr th:only-of-type {\n",
       "        vertical-align: middle;\n",
       "    }\n",
       "\n",
       "    .dataframe tbody tr th {\n",
       "        vertical-align: top;\n",
       "    }\n",
       "\n",
       "    .dataframe thead th {\n",
       "        text-align: right;\n",
       "    }\n",
       "</style>\n",
       "<table border=\"1\" class=\"dataframe\">\n",
       "  <thead>\n",
       "    <tr style=\"text-align: right;\">\n",
       "      <th></th>\n",
       "      <th>ack</th>\n",
       "      <th>ack_A</th>\n",
       "      <th>ack_B</th>\n",
       "      <th>bytes</th>\n",
       "      <th>bytes_A</th>\n",
       "      <th>bytes_A_B_ratio</th>\n",
       "      <th>bytes_B</th>\n",
       "      <th>ds_field_A</th>\n",
       "      <th>ds_field_B</th>\n",
       "      <th>duration</th>\n",
       "      <th>...</th>\n",
       "      <th>suffix_is_co.il</th>\n",
       "      <th>suffix_is_com</th>\n",
       "      <th>suffix_is_com.sg</th>\n",
       "      <th>suffix_is_else</th>\n",
       "      <th>suffix_is_empty_char_value</th>\n",
       "      <th>suffix_is_googleapis.com</th>\n",
       "      <th>suffix_is_net</th>\n",
       "      <th>suffix_is_org</th>\n",
       "      <th>suffix_is_unresolved</th>\n",
       "      <th>device_category</th>\n",
       "    </tr>\n",
       "  </thead>\n",
       "  <tbody>\n",
       "    <tr>\n",
       "      <th>0</th>\n",
       "      <td>9</td>\n",
       "      <td>5</td>\n",
       "      <td>5</td>\n",
       "      <td>1213</td>\n",
       "      <td>743</td>\n",
       "      <td>0.713924</td>\n",
       "      <td>668</td>\n",
       "      <td>0</td>\n",
       "      <td>0</td>\n",
       "      <td>1.5756</td>\n",
       "      <td>...</td>\n",
       "      <td>0</td>\n",
       "      <td>0</td>\n",
       "      <td>0</td>\n",
       "      <td>1</td>\n",
       "      <td>0</td>\n",
       "      <td>0</td>\n",
       "      <td>0</td>\n",
       "      <td>0</td>\n",
       "      <td>0</td>\n",
       "      <td>security_camera</td>\n",
       "    </tr>\n",
       "    <tr>\n",
       "      <th>1</th>\n",
       "      <td>9</td>\n",
       "      <td>5</td>\n",
       "      <td>5</td>\n",
       "      <td>1213</td>\n",
       "      <td>743</td>\n",
       "      <td>1.806874</td>\n",
       "      <td>668</td>\n",
       "      <td>0</td>\n",
       "      <td>0</td>\n",
       "      <td>0.6890</td>\n",
       "      <td>...</td>\n",
       "      <td>0</td>\n",
       "      <td>0</td>\n",
       "      <td>0</td>\n",
       "      <td>1</td>\n",
       "      <td>0</td>\n",
       "      <td>0</td>\n",
       "      <td>0</td>\n",
       "      <td>0</td>\n",
       "      <td>0</td>\n",
       "      <td>security_camera</td>\n",
       "    </tr>\n",
       "    <tr>\n",
       "      <th>2</th>\n",
       "      <td>9</td>\n",
       "      <td>5</td>\n",
       "      <td>5</td>\n",
       "      <td>1213</td>\n",
       "      <td>743</td>\n",
       "      <td>0.103124</td>\n",
       "      <td>668</td>\n",
       "      <td>0</td>\n",
       "      <td>0</td>\n",
       "      <td>0.9852</td>\n",
       "      <td>...</td>\n",
       "      <td>0</td>\n",
       "      <td>0</td>\n",
       "      <td>0</td>\n",
       "      <td>1</td>\n",
       "      <td>0</td>\n",
       "      <td>0</td>\n",
       "      <td>0</td>\n",
       "      <td>0</td>\n",
       "      <td>0</td>\n",
       "      <td>security_camera</td>\n",
       "    </tr>\n",
       "    <tr>\n",
       "      <th>3</th>\n",
       "      <td>9</td>\n",
       "      <td>5</td>\n",
       "      <td>5</td>\n",
       "      <td>1213</td>\n",
       "      <td>743</td>\n",
       "      <td>1.806874</td>\n",
       "      <td>668</td>\n",
       "      <td>0</td>\n",
       "      <td>0</td>\n",
       "      <td>1.5756</td>\n",
       "      <td>...</td>\n",
       "      <td>0</td>\n",
       "      <td>0</td>\n",
       "      <td>0</td>\n",
       "      <td>1</td>\n",
       "      <td>0</td>\n",
       "      <td>0</td>\n",
       "      <td>0</td>\n",
       "      <td>0</td>\n",
       "      <td>0</td>\n",
       "      <td>security_camera</td>\n",
       "    </tr>\n",
       "    <tr>\n",
       "      <th>4</th>\n",
       "      <td>9</td>\n",
       "      <td>5</td>\n",
       "      <td>5</td>\n",
       "      <td>1213</td>\n",
       "      <td>743</td>\n",
       "      <td>1.806874</td>\n",
       "      <td>668</td>\n",
       "      <td>0</td>\n",
       "      <td>0</td>\n",
       "      <td>1.5756</td>\n",
       "      <td>...</td>\n",
       "      <td>0</td>\n",
       "      <td>0</td>\n",
       "      <td>0</td>\n",
       "      <td>1</td>\n",
       "      <td>0</td>\n",
       "      <td>0</td>\n",
       "      <td>0</td>\n",
       "      <td>0</td>\n",
       "      <td>0</td>\n",
       "      <td>security_camera</td>\n",
       "    </tr>\n",
       "  </tbody>\n",
       "</table>\n",
       "<p>5 rows × 298 columns</p>\n",
       "</div>"
      ],
      "text/plain": [
       "   ack  ack_A  ack_B  bytes  bytes_A  bytes_A_B_ratio  bytes_B  ds_field_A  \\\n",
       "0    9      5      5   1213      743         0.713924      668           0   \n",
       "1    9      5      5   1213      743         1.806874      668           0   \n",
       "2    9      5      5   1213      743         0.103124      668           0   \n",
       "3    9      5      5   1213      743         1.806874      668           0   \n",
       "4    9      5      5   1213      743         1.806874      668           0   \n",
       "\n",
       "   ds_field_B  duration  ...  suffix_is_co.il  suffix_is_com  \\\n",
       "0           0    1.5756  ...                0              0   \n",
       "1           0    0.6890  ...                0              0   \n",
       "2           0    0.9852  ...                0              0   \n",
       "3           0    1.5756  ...                0              0   \n",
       "4           0    1.5756  ...                0              0   \n",
       "\n",
       "   suffix_is_com.sg  suffix_is_else  suffix_is_empty_char_value  \\\n",
       "0                 0               1                           0   \n",
       "1                 0               1                           0   \n",
       "2                 0               1                           0   \n",
       "3                 0               1                           0   \n",
       "4                 0               1                           0   \n",
       "\n",
       "   suffix_is_googleapis.com  suffix_is_net  suffix_is_org  \\\n",
       "0                         0              0              0   \n",
       "1                         0              0              0   \n",
       "2                         0              0              0   \n",
       "3                         0              0              0   \n",
       "4                         0              0              0   \n",
       "\n",
       "   suffix_is_unresolved  device_category  \n",
       "0                     0  security_camera  \n",
       "1                     0  security_camera  \n",
       "2                     0  security_camera  \n",
       "3                     0  security_camera  \n",
       "4                     0  security_camera  \n",
       "\n",
       "[5 rows x 298 columns]"
      ]
     },
     "execution_count": 278,
     "metadata": {},
     "output_type": "execute_result"
    }
   ],
   "source": [
    "df_train = pd.read_csv('iot_device_train.csv')\n",
    "df_test = pd.read_csv('iot_device_test.csv')\n",
    "df_train.head()"
   ]
  },
  {
   "cell_type": "code",
   "execution_count": 279,
   "metadata": {
    "execution": {
     "iopub.execute_input": "2022-03-01T14:55:18.107742Z",
     "iopub.status.busy": "2022-03-01T14:55:18.10712Z",
     "iopub.status.idle": "2022-03-01T14:55:18.133124Z",
     "shell.execute_reply": "2022-03-01T14:55:18.132336Z",
     "shell.execute_reply.started": "2022-03-01T14:55:18.107695Z"
    }
   },
   "outputs": [
    {
     "data": {
      "text/html": [
       "<div>\n",
       "<style scoped>\n",
       "    .dataframe tbody tr th:only-of-type {\n",
       "        vertical-align: middle;\n",
       "    }\n",
       "\n",
       "    .dataframe tbody tr th {\n",
       "        vertical-align: top;\n",
       "    }\n",
       "\n",
       "    .dataframe thead th {\n",
       "        text-align: right;\n",
       "    }\n",
       "</style>\n",
       "<table border=\"1\" class=\"dataframe\">\n",
       "  <thead>\n",
       "    <tr style=\"text-align: right;\">\n",
       "      <th></th>\n",
       "      <th>ack</th>\n",
       "      <th>ack_A</th>\n",
       "      <th>ack_B</th>\n",
       "      <th>bytes</th>\n",
       "      <th>bytes_A</th>\n",
       "      <th>bytes_A_B_ratio</th>\n",
       "      <th>bytes_B</th>\n",
       "      <th>ds_field_A</th>\n",
       "      <th>ds_field_B</th>\n",
       "      <th>duration</th>\n",
       "      <th>...</th>\n",
       "      <th>suffix_is_co.il</th>\n",
       "      <th>suffix_is_com</th>\n",
       "      <th>suffix_is_com.sg</th>\n",
       "      <th>suffix_is_else</th>\n",
       "      <th>suffix_is_empty_char_value</th>\n",
       "      <th>suffix_is_googleapis.com</th>\n",
       "      <th>suffix_is_net</th>\n",
       "      <th>suffix_is_org</th>\n",
       "      <th>suffix_is_unresolved</th>\n",
       "      <th>device_category</th>\n",
       "    </tr>\n",
       "  </thead>\n",
       "  <tbody>\n",
       "    <tr>\n",
       "      <th>0</th>\n",
       "      <td>38</td>\n",
       "      <td>20</td>\n",
       "      <td>18</td>\n",
       "      <td>14698</td>\n",
       "      <td>7814</td>\n",
       "      <td>1.135096</td>\n",
       "      <td>6884</td>\n",
       "      <td>0</td>\n",
       "      <td>0</td>\n",
       "      <td>1.9156</td>\n",
       "      <td>...</td>\n",
       "      <td>0</td>\n",
       "      <td>0</td>\n",
       "      <td>0</td>\n",
       "      <td>1</td>\n",
       "      <td>0</td>\n",
       "      <td>0</td>\n",
       "      <td>0</td>\n",
       "      <td>0</td>\n",
       "      <td>0</td>\n",
       "      <td>baby_monitor</td>\n",
       "    </tr>\n",
       "    <tr>\n",
       "      <th>1</th>\n",
       "      <td>38</td>\n",
       "      <td>20</td>\n",
       "      <td>18</td>\n",
       "      <td>14698</td>\n",
       "      <td>7814</td>\n",
       "      <td>1.135096</td>\n",
       "      <td>6884</td>\n",
       "      <td>0</td>\n",
       "      <td>0</td>\n",
       "      <td>2.0020</td>\n",
       "      <td>...</td>\n",
       "      <td>0</td>\n",
       "      <td>0</td>\n",
       "      <td>0</td>\n",
       "      <td>1</td>\n",
       "      <td>0</td>\n",
       "      <td>0</td>\n",
       "      <td>0</td>\n",
       "      <td>0</td>\n",
       "      <td>0</td>\n",
       "      <td>baby_monitor</td>\n",
       "    </tr>\n",
       "    <tr>\n",
       "      <th>2</th>\n",
       "      <td>38</td>\n",
       "      <td>20</td>\n",
       "      <td>18</td>\n",
       "      <td>14762</td>\n",
       "      <td>7814</td>\n",
       "      <td>1.124640</td>\n",
       "      <td>6948</td>\n",
       "      <td>0</td>\n",
       "      <td>0</td>\n",
       "      <td>2.1833</td>\n",
       "      <td>...</td>\n",
       "      <td>0</td>\n",
       "      <td>0</td>\n",
       "      <td>0</td>\n",
       "      <td>1</td>\n",
       "      <td>0</td>\n",
       "      <td>0</td>\n",
       "      <td>0</td>\n",
       "      <td>0</td>\n",
       "      <td>0</td>\n",
       "      <td>baby_monitor</td>\n",
       "    </tr>\n",
       "    <tr>\n",
       "      <th>3</th>\n",
       "      <td>38</td>\n",
       "      <td>20</td>\n",
       "      <td>18</td>\n",
       "      <td>14762</td>\n",
       "      <td>7814</td>\n",
       "      <td>1.124640</td>\n",
       "      <td>6948</td>\n",
       "      <td>0</td>\n",
       "      <td>0</td>\n",
       "      <td>2.1521</td>\n",
       "      <td>...</td>\n",
       "      <td>0</td>\n",
       "      <td>0</td>\n",
       "      <td>0</td>\n",
       "      <td>1</td>\n",
       "      <td>0</td>\n",
       "      <td>0</td>\n",
       "      <td>0</td>\n",
       "      <td>0</td>\n",
       "      <td>0</td>\n",
       "      <td>baby_monitor</td>\n",
       "    </tr>\n",
       "    <tr>\n",
       "      <th>4</th>\n",
       "      <td>41</td>\n",
       "      <td>20</td>\n",
       "      <td>21</td>\n",
       "      <td>14862</td>\n",
       "      <td>7994</td>\n",
       "      <td>1.163949</td>\n",
       "      <td>6868</td>\n",
       "      <td>0</td>\n",
       "      <td>0</td>\n",
       "      <td>2.2422</td>\n",
       "      <td>...</td>\n",
       "      <td>0</td>\n",
       "      <td>0</td>\n",
       "      <td>0</td>\n",
       "      <td>1</td>\n",
       "      <td>0</td>\n",
       "      <td>0</td>\n",
       "      <td>0</td>\n",
       "      <td>0</td>\n",
       "      <td>0</td>\n",
       "      <td>baby_monitor</td>\n",
       "    </tr>\n",
       "  </tbody>\n",
       "</table>\n",
       "<p>5 rows × 298 columns</p>\n",
       "</div>"
      ],
      "text/plain": [
       "   ack  ack_A  ack_B  bytes  bytes_A  bytes_A_B_ratio  bytes_B  ds_field_A  \\\n",
       "0   38     20     18  14698     7814         1.135096     6884           0   \n",
       "1   38     20     18  14698     7814         1.135096     6884           0   \n",
       "2   38     20     18  14762     7814         1.124640     6948           0   \n",
       "3   38     20     18  14762     7814         1.124640     6948           0   \n",
       "4   41     20     21  14862     7994         1.163949     6868           0   \n",
       "\n",
       "   ds_field_B  duration  ...  suffix_is_co.il  suffix_is_com  \\\n",
       "0           0    1.9156  ...                0              0   \n",
       "1           0    2.0020  ...                0              0   \n",
       "2           0    2.1833  ...                0              0   \n",
       "3           0    2.1521  ...                0              0   \n",
       "4           0    2.2422  ...                0              0   \n",
       "\n",
       "   suffix_is_com.sg  suffix_is_else  suffix_is_empty_char_value  \\\n",
       "0                 0               1                           0   \n",
       "1                 0               1                           0   \n",
       "2                 0               1                           0   \n",
       "3                 0               1                           0   \n",
       "4                 0               1                           0   \n",
       "\n",
       "   suffix_is_googleapis.com  suffix_is_net  suffix_is_org  \\\n",
       "0                         0              0              0   \n",
       "1                         0              0              0   \n",
       "2                         0              0              0   \n",
       "3                         0              0              0   \n",
       "4                         0              0              0   \n",
       "\n",
       "   suffix_is_unresolved  device_category  \n",
       "0                     0     baby_monitor  \n",
       "1                     0     baby_monitor  \n",
       "2                     0     baby_monitor  \n",
       "3                     0     baby_monitor  \n",
       "4                     0     baby_monitor  \n",
       "\n",
       "[5 rows x 298 columns]"
      ]
     },
     "execution_count": 279,
     "metadata": {},
     "output_type": "execute_result"
    }
   ],
   "source": [
    "df_test.head()"
   ]
  },
  {
   "cell_type": "markdown",
   "metadata": {},
   "source": [
    "## Data Exporation"
   ]
  },
  {
   "cell_type": "code",
   "execution_count": 280,
   "metadata": {
    "execution": {
     "iopub.execute_input": "2022-03-01T14:55:18.135233Z",
     "iopub.status.busy": "2022-03-01T14:55:18.134756Z",
     "iopub.status.idle": "2022-03-01T14:55:18.168539Z",
     "shell.execute_reply": "2022-03-01T14:55:18.167722Z",
     "shell.execute_reply.started": "2022-03-01T14:55:18.1352Z"
    }
   },
   "outputs": [
    {
     "data": {
      "text/html": [
       "<div>\n",
       "<style scoped>\n",
       "    .dataframe tbody tr th:only-of-type {\n",
       "        vertical-align: middle;\n",
       "    }\n",
       "\n",
       "    .dataframe tbody tr th {\n",
       "        vertical-align: top;\n",
       "    }\n",
       "\n",
       "    .dataframe thead th {\n",
       "        text-align: right;\n",
       "    }\n",
       "</style>\n",
       "<table border=\"1\" class=\"dataframe\">\n",
       "  <thead>\n",
       "    <tr style=\"text-align: right;\">\n",
       "      <th></th>\n",
       "      <th>ack</th>\n",
       "      <th>ack_A</th>\n",
       "      <th>ack_B</th>\n",
       "      <th>bytes</th>\n",
       "      <th>bytes_A</th>\n",
       "      <th>bytes_A_B_ratio</th>\n",
       "      <th>bytes_B</th>\n",
       "      <th>ds_field_A</th>\n",
       "      <th>ds_field_B</th>\n",
       "      <th>duration</th>\n",
       "      <th>...</th>\n",
       "      <th>suffix_is_co.il</th>\n",
       "      <th>suffix_is_com</th>\n",
       "      <th>suffix_is_com.sg</th>\n",
       "      <th>suffix_is_else</th>\n",
       "      <th>suffix_is_empty_char_value</th>\n",
       "      <th>suffix_is_googleapis.com</th>\n",
       "      <th>suffix_is_net</th>\n",
       "      <th>suffix_is_org</th>\n",
       "      <th>suffix_is_unresolved</th>\n",
       "      <th>device_category</th>\n",
       "    </tr>\n",
       "  </thead>\n",
       "  <tbody>\n",
       "    <tr>\n",
       "      <th>0</th>\n",
       "      <td>9</td>\n",
       "      <td>5</td>\n",
       "      <td>5</td>\n",
       "      <td>1213</td>\n",
       "      <td>743</td>\n",
       "      <td>0.713924</td>\n",
       "      <td>668</td>\n",
       "      <td>0</td>\n",
       "      <td>0</td>\n",
       "      <td>1.5756</td>\n",
       "      <td>...</td>\n",
       "      <td>0</td>\n",
       "      <td>0</td>\n",
       "      <td>0</td>\n",
       "      <td>1</td>\n",
       "      <td>0</td>\n",
       "      <td>0</td>\n",
       "      <td>0</td>\n",
       "      <td>0</td>\n",
       "      <td>0</td>\n",
       "      <td>security_camera</td>\n",
       "    </tr>\n",
       "    <tr>\n",
       "      <th>1</th>\n",
       "      <td>9</td>\n",
       "      <td>5</td>\n",
       "      <td>5</td>\n",
       "      <td>1213</td>\n",
       "      <td>743</td>\n",
       "      <td>1.806874</td>\n",
       "      <td>668</td>\n",
       "      <td>0</td>\n",
       "      <td>0</td>\n",
       "      <td>0.6890</td>\n",
       "      <td>...</td>\n",
       "      <td>0</td>\n",
       "      <td>0</td>\n",
       "      <td>0</td>\n",
       "      <td>1</td>\n",
       "      <td>0</td>\n",
       "      <td>0</td>\n",
       "      <td>0</td>\n",
       "      <td>0</td>\n",
       "      <td>0</td>\n",
       "      <td>security_camera</td>\n",
       "    </tr>\n",
       "    <tr>\n",
       "      <th>2</th>\n",
       "      <td>9</td>\n",
       "      <td>5</td>\n",
       "      <td>5</td>\n",
       "      <td>1213</td>\n",
       "      <td>743</td>\n",
       "      <td>0.103124</td>\n",
       "      <td>668</td>\n",
       "      <td>0</td>\n",
       "      <td>0</td>\n",
       "      <td>0.9852</td>\n",
       "      <td>...</td>\n",
       "      <td>0</td>\n",
       "      <td>0</td>\n",
       "      <td>0</td>\n",
       "      <td>1</td>\n",
       "      <td>0</td>\n",
       "      <td>0</td>\n",
       "      <td>0</td>\n",
       "      <td>0</td>\n",
       "      <td>0</td>\n",
       "      <td>security_camera</td>\n",
       "    </tr>\n",
       "    <tr>\n",
       "      <th>3</th>\n",
       "      <td>9</td>\n",
       "      <td>5</td>\n",
       "      <td>5</td>\n",
       "      <td>1213</td>\n",
       "      <td>743</td>\n",
       "      <td>1.806874</td>\n",
       "      <td>668</td>\n",
       "      <td>0</td>\n",
       "      <td>0</td>\n",
       "      <td>1.5756</td>\n",
       "      <td>...</td>\n",
       "      <td>0</td>\n",
       "      <td>0</td>\n",
       "      <td>0</td>\n",
       "      <td>1</td>\n",
       "      <td>0</td>\n",
       "      <td>0</td>\n",
       "      <td>0</td>\n",
       "      <td>0</td>\n",
       "      <td>0</td>\n",
       "      <td>security_camera</td>\n",
       "    </tr>\n",
       "    <tr>\n",
       "      <th>4</th>\n",
       "      <td>9</td>\n",
       "      <td>5</td>\n",
       "      <td>5</td>\n",
       "      <td>1213</td>\n",
       "      <td>743</td>\n",
       "      <td>1.806874</td>\n",
       "      <td>668</td>\n",
       "      <td>0</td>\n",
       "      <td>0</td>\n",
       "      <td>1.5756</td>\n",
       "      <td>...</td>\n",
       "      <td>0</td>\n",
       "      <td>0</td>\n",
       "      <td>0</td>\n",
       "      <td>1</td>\n",
       "      <td>0</td>\n",
       "      <td>0</td>\n",
       "      <td>0</td>\n",
       "      <td>0</td>\n",
       "      <td>0</td>\n",
       "      <td>security_camera</td>\n",
       "    </tr>\n",
       "    <tr>\n",
       "      <th>...</th>\n",
       "      <td>...</td>\n",
       "      <td>...</td>\n",
       "      <td>...</td>\n",
       "      <td>...</td>\n",
       "      <td>...</td>\n",
       "      <td>...</td>\n",
       "      <td>...</td>\n",
       "      <td>...</td>\n",
       "      <td>...</td>\n",
       "      <td>...</td>\n",
       "      <td>...</td>\n",
       "      <td>...</td>\n",
       "      <td>...</td>\n",
       "      <td>...</td>\n",
       "      <td>...</td>\n",
       "      <td>...</td>\n",
       "      <td>...</td>\n",
       "      <td>...</td>\n",
       "      <td>...</td>\n",
       "      <td>...</td>\n",
       "      <td>...</td>\n",
       "    </tr>\n",
       "    <tr>\n",
       "      <th>995</th>\n",
       "      <td>0</td>\n",
       "      <td>0</td>\n",
       "      <td>0</td>\n",
       "      <td>240</td>\n",
       "      <td>0</td>\n",
       "      <td>0.000000</td>\n",
       "      <td>240</td>\n",
       "      <td>0</td>\n",
       "      <td>64</td>\n",
       "      <td>1.4983</td>\n",
       "      <td>...</td>\n",
       "      <td>0</td>\n",
       "      <td>0</td>\n",
       "      <td>0</td>\n",
       "      <td>1</td>\n",
       "      <td>0</td>\n",
       "      <td>0</td>\n",
       "      <td>0</td>\n",
       "      <td>0</td>\n",
       "      <td>0</td>\n",
       "      <td>socket</td>\n",
       "    </tr>\n",
       "    <tr>\n",
       "      <th>996</th>\n",
       "      <td>0</td>\n",
       "      <td>0</td>\n",
       "      <td>0</td>\n",
       "      <td>240</td>\n",
       "      <td>0</td>\n",
       "      <td>0.000000</td>\n",
       "      <td>240</td>\n",
       "      <td>0</td>\n",
       "      <td>64</td>\n",
       "      <td>1.4979</td>\n",
       "      <td>...</td>\n",
       "      <td>0</td>\n",
       "      <td>0</td>\n",
       "      <td>0</td>\n",
       "      <td>1</td>\n",
       "      <td>0</td>\n",
       "      <td>0</td>\n",
       "      <td>0</td>\n",
       "      <td>0</td>\n",
       "      <td>0</td>\n",
       "      <td>socket</td>\n",
       "    </tr>\n",
       "    <tr>\n",
       "      <th>997</th>\n",
       "      <td>0</td>\n",
       "      <td>0</td>\n",
       "      <td>0</td>\n",
       "      <td>240</td>\n",
       "      <td>0</td>\n",
       "      <td>0.000000</td>\n",
       "      <td>240</td>\n",
       "      <td>0</td>\n",
       "      <td>64</td>\n",
       "      <td>1.4950</td>\n",
       "      <td>...</td>\n",
       "      <td>0</td>\n",
       "      <td>0</td>\n",
       "      <td>0</td>\n",
       "      <td>1</td>\n",
       "      <td>0</td>\n",
       "      <td>0</td>\n",
       "      <td>0</td>\n",
       "      <td>0</td>\n",
       "      <td>0</td>\n",
       "      <td>socket</td>\n",
       "    </tr>\n",
       "    <tr>\n",
       "      <th>998</th>\n",
       "      <td>0</td>\n",
       "      <td>0</td>\n",
       "      <td>0</td>\n",
       "      <td>240</td>\n",
       "      <td>0</td>\n",
       "      <td>0.000000</td>\n",
       "      <td>240</td>\n",
       "      <td>0</td>\n",
       "      <td>64</td>\n",
       "      <td>1.4993</td>\n",
       "      <td>...</td>\n",
       "      <td>0</td>\n",
       "      <td>0</td>\n",
       "      <td>0</td>\n",
       "      <td>1</td>\n",
       "      <td>0</td>\n",
       "      <td>0</td>\n",
       "      <td>0</td>\n",
       "      <td>0</td>\n",
       "      <td>0</td>\n",
       "      <td>socket</td>\n",
       "    </tr>\n",
       "    <tr>\n",
       "      <th>999</th>\n",
       "      <td>0</td>\n",
       "      <td>0</td>\n",
       "      <td>0</td>\n",
       "      <td>240</td>\n",
       "      <td>0</td>\n",
       "      <td>0.000000</td>\n",
       "      <td>240</td>\n",
       "      <td>0</td>\n",
       "      <td>64</td>\n",
       "      <td>1.4951</td>\n",
       "      <td>...</td>\n",
       "      <td>0</td>\n",
       "      <td>0</td>\n",
       "      <td>0</td>\n",
       "      <td>1</td>\n",
       "      <td>0</td>\n",
       "      <td>0</td>\n",
       "      <td>0</td>\n",
       "      <td>0</td>\n",
       "      <td>0</td>\n",
       "      <td>socket</td>\n",
       "    </tr>\n",
       "  </tbody>\n",
       "</table>\n",
       "<p>1000 rows × 298 columns</p>\n",
       "</div>"
      ],
      "text/plain": [
       "     ack  ack_A  ack_B  bytes  bytes_A  bytes_A_B_ratio  bytes_B  ds_field_A  \\\n",
       "0      9      5      5   1213      743         0.713924      668           0   \n",
       "1      9      5      5   1213      743         1.806874      668           0   \n",
       "2      9      5      5   1213      743         0.103124      668           0   \n",
       "3      9      5      5   1213      743         1.806874      668           0   \n",
       "4      9      5      5   1213      743         1.806874      668           0   \n",
       "..   ...    ...    ...    ...      ...              ...      ...         ...   \n",
       "995    0      0      0    240        0         0.000000      240           0   \n",
       "996    0      0      0    240        0         0.000000      240           0   \n",
       "997    0      0      0    240        0         0.000000      240           0   \n",
       "998    0      0      0    240        0         0.000000      240           0   \n",
       "999    0      0      0    240        0         0.000000      240           0   \n",
       "\n",
       "     ds_field_B  duration  ...  suffix_is_co.il  suffix_is_com  \\\n",
       "0             0    1.5756  ...                0              0   \n",
       "1             0    0.6890  ...                0              0   \n",
       "2             0    0.9852  ...                0              0   \n",
       "3             0    1.5756  ...                0              0   \n",
       "4             0    1.5756  ...                0              0   \n",
       "..          ...       ...  ...              ...            ...   \n",
       "995          64    1.4983  ...                0              0   \n",
       "996          64    1.4979  ...                0              0   \n",
       "997          64    1.4950  ...                0              0   \n",
       "998          64    1.4993  ...                0              0   \n",
       "999          64    1.4951  ...                0              0   \n",
       "\n",
       "     suffix_is_com.sg  suffix_is_else  suffix_is_empty_char_value  \\\n",
       "0                   0               1                           0   \n",
       "1                   0               1                           0   \n",
       "2                   0               1                           0   \n",
       "3                   0               1                           0   \n",
       "4                   0               1                           0   \n",
       "..                ...             ...                         ...   \n",
       "995                 0               1                           0   \n",
       "996                 0               1                           0   \n",
       "997                 0               1                           0   \n",
       "998                 0               1                           0   \n",
       "999                 0               1                           0   \n",
       "\n",
       "     suffix_is_googleapis.com  suffix_is_net  suffix_is_org  \\\n",
       "0                           0              0              0   \n",
       "1                           0              0              0   \n",
       "2                           0              0              0   \n",
       "3                           0              0              0   \n",
       "4                           0              0              0   \n",
       "..                        ...            ...            ...   \n",
       "995                         0              0              0   \n",
       "996                         0              0              0   \n",
       "997                         0              0              0   \n",
       "998                         0              0              0   \n",
       "999                         0              0              0   \n",
       "\n",
       "     suffix_is_unresolved  device_category  \n",
       "0                       0  security_camera  \n",
       "1                       0  security_camera  \n",
       "2                       0  security_camera  \n",
       "3                       0  security_camera  \n",
       "4                       0  security_camera  \n",
       "..                    ...              ...  \n",
       "995                     0           socket  \n",
       "996                     0           socket  \n",
       "997                     0           socket  \n",
       "998                     0           socket  \n",
       "999                     0           socket  \n",
       "\n",
       "[1000 rows x 298 columns]"
      ]
     },
     "execution_count": 280,
     "metadata": {},
     "output_type": "execute_result"
    }
   ],
   "source": [
    "df_train"
   ]
  },
  {
   "cell_type": "code",
   "execution_count": 281,
   "metadata": {
    "execution": {
     "iopub.execute_input": "2022-03-01T14:55:18.170621Z",
     "iopub.status.busy": "2022-03-01T14:55:18.170125Z",
     "iopub.status.idle": "2022-03-01T14:55:18.204832Z",
     "shell.execute_reply": "2022-03-01T14:55:18.203714Z",
     "shell.execute_reply.started": "2022-03-01T14:55:18.170587Z"
    }
   },
   "outputs": [
    {
     "data": {
      "text/html": [
       "<div>\n",
       "<style scoped>\n",
       "    .dataframe tbody tr th:only-of-type {\n",
       "        vertical-align: middle;\n",
       "    }\n",
       "\n",
       "    .dataframe tbody tr th {\n",
       "        vertical-align: top;\n",
       "    }\n",
       "\n",
       "    .dataframe thead th {\n",
       "        text-align: right;\n",
       "    }\n",
       "</style>\n",
       "<table border=\"1\" class=\"dataframe\">\n",
       "  <thead>\n",
       "    <tr style=\"text-align: right;\">\n",
       "      <th></th>\n",
       "      <th>ack</th>\n",
       "      <th>ack_A</th>\n",
       "      <th>ack_B</th>\n",
       "      <th>bytes</th>\n",
       "      <th>bytes_A</th>\n",
       "      <th>bytes_A_B_ratio</th>\n",
       "      <th>bytes_B</th>\n",
       "      <th>ds_field_A</th>\n",
       "      <th>ds_field_B</th>\n",
       "      <th>duration</th>\n",
       "      <th>...</th>\n",
       "      <th>suffix_is_co.il</th>\n",
       "      <th>suffix_is_com</th>\n",
       "      <th>suffix_is_com.sg</th>\n",
       "      <th>suffix_is_else</th>\n",
       "      <th>suffix_is_empty_char_value</th>\n",
       "      <th>suffix_is_googleapis.com</th>\n",
       "      <th>suffix_is_net</th>\n",
       "      <th>suffix_is_org</th>\n",
       "      <th>suffix_is_unresolved</th>\n",
       "      <th>device_category</th>\n",
       "    </tr>\n",
       "  </thead>\n",
       "  <tbody>\n",
       "    <tr>\n",
       "      <th>0</th>\n",
       "      <td>38</td>\n",
       "      <td>20</td>\n",
       "      <td>18</td>\n",
       "      <td>14698</td>\n",
       "      <td>7814</td>\n",
       "      <td>1.135096</td>\n",
       "      <td>6884</td>\n",
       "      <td>0</td>\n",
       "      <td>0</td>\n",
       "      <td>1.9156</td>\n",
       "      <td>...</td>\n",
       "      <td>0</td>\n",
       "      <td>0</td>\n",
       "      <td>0</td>\n",
       "      <td>1</td>\n",
       "      <td>0</td>\n",
       "      <td>0</td>\n",
       "      <td>0</td>\n",
       "      <td>0</td>\n",
       "      <td>0</td>\n",
       "      <td>baby_monitor</td>\n",
       "    </tr>\n",
       "    <tr>\n",
       "      <th>1</th>\n",
       "      <td>38</td>\n",
       "      <td>20</td>\n",
       "      <td>18</td>\n",
       "      <td>14698</td>\n",
       "      <td>7814</td>\n",
       "      <td>1.135096</td>\n",
       "      <td>6884</td>\n",
       "      <td>0</td>\n",
       "      <td>0</td>\n",
       "      <td>2.0020</td>\n",
       "      <td>...</td>\n",
       "      <td>0</td>\n",
       "      <td>0</td>\n",
       "      <td>0</td>\n",
       "      <td>1</td>\n",
       "      <td>0</td>\n",
       "      <td>0</td>\n",
       "      <td>0</td>\n",
       "      <td>0</td>\n",
       "      <td>0</td>\n",
       "      <td>baby_monitor</td>\n",
       "    </tr>\n",
       "    <tr>\n",
       "      <th>2</th>\n",
       "      <td>38</td>\n",
       "      <td>20</td>\n",
       "      <td>18</td>\n",
       "      <td>14762</td>\n",
       "      <td>7814</td>\n",
       "      <td>1.124640</td>\n",
       "      <td>6948</td>\n",
       "      <td>0</td>\n",
       "      <td>0</td>\n",
       "      <td>2.1833</td>\n",
       "      <td>...</td>\n",
       "      <td>0</td>\n",
       "      <td>0</td>\n",
       "      <td>0</td>\n",
       "      <td>1</td>\n",
       "      <td>0</td>\n",
       "      <td>0</td>\n",
       "      <td>0</td>\n",
       "      <td>0</td>\n",
       "      <td>0</td>\n",
       "      <td>baby_monitor</td>\n",
       "    </tr>\n",
       "    <tr>\n",
       "      <th>3</th>\n",
       "      <td>38</td>\n",
       "      <td>20</td>\n",
       "      <td>18</td>\n",
       "      <td>14762</td>\n",
       "      <td>7814</td>\n",
       "      <td>1.124640</td>\n",
       "      <td>6948</td>\n",
       "      <td>0</td>\n",
       "      <td>0</td>\n",
       "      <td>2.1521</td>\n",
       "      <td>...</td>\n",
       "      <td>0</td>\n",
       "      <td>0</td>\n",
       "      <td>0</td>\n",
       "      <td>1</td>\n",
       "      <td>0</td>\n",
       "      <td>0</td>\n",
       "      <td>0</td>\n",
       "      <td>0</td>\n",
       "      <td>0</td>\n",
       "      <td>baby_monitor</td>\n",
       "    </tr>\n",
       "    <tr>\n",
       "      <th>4</th>\n",
       "      <td>41</td>\n",
       "      <td>20</td>\n",
       "      <td>21</td>\n",
       "      <td>14862</td>\n",
       "      <td>7994</td>\n",
       "      <td>1.163949</td>\n",
       "      <td>6868</td>\n",
       "      <td>0</td>\n",
       "      <td>0</td>\n",
       "      <td>2.2422</td>\n",
       "      <td>...</td>\n",
       "      <td>0</td>\n",
       "      <td>0</td>\n",
       "      <td>0</td>\n",
       "      <td>1</td>\n",
       "      <td>0</td>\n",
       "      <td>0</td>\n",
       "      <td>0</td>\n",
       "      <td>0</td>\n",
       "      <td>0</td>\n",
       "      <td>baby_monitor</td>\n",
       "    </tr>\n",
       "    <tr>\n",
       "      <th>...</th>\n",
       "      <td>...</td>\n",
       "      <td>...</td>\n",
       "      <td>...</td>\n",
       "      <td>...</td>\n",
       "      <td>...</td>\n",
       "      <td>...</td>\n",
       "      <td>...</td>\n",
       "      <td>...</td>\n",
       "      <td>...</td>\n",
       "      <td>...</td>\n",
       "      <td>...</td>\n",
       "      <td>...</td>\n",
       "      <td>...</td>\n",
       "      <td>...</td>\n",
       "      <td>...</td>\n",
       "      <td>...</td>\n",
       "      <td>...</td>\n",
       "      <td>...</td>\n",
       "      <td>...</td>\n",
       "      <td>...</td>\n",
       "      <td>...</td>\n",
       "    </tr>\n",
       "    <tr>\n",
       "      <th>895</th>\n",
       "      <td>264</td>\n",
       "      <td>116</td>\n",
       "      <td>148</td>\n",
       "      <td>212053</td>\n",
       "      <td>202036</td>\n",
       "      <td>20.169310</td>\n",
       "      <td>10017</td>\n",
       "      <td>0</td>\n",
       "      <td>0</td>\n",
       "      <td>250.1856</td>\n",
       "      <td>...</td>\n",
       "      <td>0</td>\n",
       "      <td>0</td>\n",
       "      <td>0</td>\n",
       "      <td>0</td>\n",
       "      <td>1</td>\n",
       "      <td>0</td>\n",
       "      <td>0</td>\n",
       "      <td>0</td>\n",
       "      <td>0</td>\n",
       "      <td>watch</td>\n",
       "    </tr>\n",
       "    <tr>\n",
       "      <th>896</th>\n",
       "      <td>24</td>\n",
       "      <td>13</td>\n",
       "      <td>11</td>\n",
       "      <td>7749</td>\n",
       "      <td>5364</td>\n",
       "      <td>2.249056</td>\n",
       "      <td>2385</td>\n",
       "      <td>0</td>\n",
       "      <td>0</td>\n",
       "      <td>300.6818</td>\n",
       "      <td>...</td>\n",
       "      <td>0</td>\n",
       "      <td>0</td>\n",
       "      <td>0</td>\n",
       "      <td>1</td>\n",
       "      <td>0</td>\n",
       "      <td>0</td>\n",
       "      <td>0</td>\n",
       "      <td>0</td>\n",
       "      <td>0</td>\n",
       "      <td>watch</td>\n",
       "    </tr>\n",
       "    <tr>\n",
       "      <th>897</th>\n",
       "      <td>20</td>\n",
       "      <td>9</td>\n",
       "      <td>11</td>\n",
       "      <td>7091</td>\n",
       "      <td>5336</td>\n",
       "      <td>3.040454</td>\n",
       "      <td>1755</td>\n",
       "      <td>0</td>\n",
       "      <td>0</td>\n",
       "      <td>300.9433</td>\n",
       "      <td>...</td>\n",
       "      <td>0</td>\n",
       "      <td>0</td>\n",
       "      <td>0</td>\n",
       "      <td>1</td>\n",
       "      <td>0</td>\n",
       "      <td>0</td>\n",
       "      <td>0</td>\n",
       "      <td>0</td>\n",
       "      <td>0</td>\n",
       "      <td>watch</td>\n",
       "    </tr>\n",
       "    <tr>\n",
       "      <th>898</th>\n",
       "      <td>30</td>\n",
       "      <td>14</td>\n",
       "      <td>16</td>\n",
       "      <td>7882</td>\n",
       "      <td>5789</td>\n",
       "      <td>2.765885</td>\n",
       "      <td>2093</td>\n",
       "      <td>0</td>\n",
       "      <td>0</td>\n",
       "      <td>244.8219</td>\n",
       "      <td>...</td>\n",
       "      <td>0</td>\n",
       "      <td>0</td>\n",
       "      <td>0</td>\n",
       "      <td>0</td>\n",
       "      <td>1</td>\n",
       "      <td>0</td>\n",
       "      <td>0</td>\n",
       "      <td>0</td>\n",
       "      <td>0</td>\n",
       "      <td>watch</td>\n",
       "    </tr>\n",
       "    <tr>\n",
       "      <th>899</th>\n",
       "      <td>294</td>\n",
       "      <td>147</td>\n",
       "      <td>147</td>\n",
       "      <td>209972</td>\n",
       "      <td>197919</td>\n",
       "      <td>16.420724</td>\n",
       "      <td>12053</td>\n",
       "      <td>0</td>\n",
       "      <td>0</td>\n",
       "      <td>248.6685</td>\n",
       "      <td>...</td>\n",
       "      <td>0</td>\n",
       "      <td>0</td>\n",
       "      <td>0</td>\n",
       "      <td>1</td>\n",
       "      <td>0</td>\n",
       "      <td>0</td>\n",
       "      <td>0</td>\n",
       "      <td>0</td>\n",
       "      <td>0</td>\n",
       "      <td>watch</td>\n",
       "    </tr>\n",
       "  </tbody>\n",
       "</table>\n",
       "<p>900 rows × 298 columns</p>\n",
       "</div>"
      ],
      "text/plain": [
       "     ack  ack_A  ack_B   bytes  bytes_A  bytes_A_B_ratio  bytes_B  ds_field_A  \\\n",
       "0     38     20     18   14698     7814         1.135096     6884           0   \n",
       "1     38     20     18   14698     7814         1.135096     6884           0   \n",
       "2     38     20     18   14762     7814         1.124640     6948           0   \n",
       "3     38     20     18   14762     7814         1.124640     6948           0   \n",
       "4     41     20     21   14862     7994         1.163949     6868           0   \n",
       "..   ...    ...    ...     ...      ...              ...      ...         ...   \n",
       "895  264    116    148  212053   202036        20.169310    10017           0   \n",
       "896   24     13     11    7749     5364         2.249056     2385           0   \n",
       "897   20      9     11    7091     5336         3.040454     1755           0   \n",
       "898   30     14     16    7882     5789         2.765885     2093           0   \n",
       "899  294    147    147  209972   197919        16.420724    12053           0   \n",
       "\n",
       "     ds_field_B  duration  ...  suffix_is_co.il  suffix_is_com  \\\n",
       "0             0    1.9156  ...                0              0   \n",
       "1             0    2.0020  ...                0              0   \n",
       "2             0    2.1833  ...                0              0   \n",
       "3             0    2.1521  ...                0              0   \n",
       "4             0    2.2422  ...                0              0   \n",
       "..          ...       ...  ...              ...            ...   \n",
       "895           0  250.1856  ...                0              0   \n",
       "896           0  300.6818  ...                0              0   \n",
       "897           0  300.9433  ...                0              0   \n",
       "898           0  244.8219  ...                0              0   \n",
       "899           0  248.6685  ...                0              0   \n",
       "\n",
       "     suffix_is_com.sg  suffix_is_else  suffix_is_empty_char_value  \\\n",
       "0                   0               1                           0   \n",
       "1                   0               1                           0   \n",
       "2                   0               1                           0   \n",
       "3                   0               1                           0   \n",
       "4                   0               1                           0   \n",
       "..                ...             ...                         ...   \n",
       "895                 0               0                           1   \n",
       "896                 0               1                           0   \n",
       "897                 0               1                           0   \n",
       "898                 0               0                           1   \n",
       "899                 0               1                           0   \n",
       "\n",
       "     suffix_is_googleapis.com  suffix_is_net  suffix_is_org  \\\n",
       "0                           0              0              0   \n",
       "1                           0              0              0   \n",
       "2                           0              0              0   \n",
       "3                           0              0              0   \n",
       "4                           0              0              0   \n",
       "..                        ...            ...            ...   \n",
       "895                         0              0              0   \n",
       "896                         0              0              0   \n",
       "897                         0              0              0   \n",
       "898                         0              0              0   \n",
       "899                         0              0              0   \n",
       "\n",
       "     suffix_is_unresolved  device_category  \n",
       "0                       0     baby_monitor  \n",
       "1                       0     baby_monitor  \n",
       "2                       0     baby_monitor  \n",
       "3                       0     baby_monitor  \n",
       "4                       0     baby_monitor  \n",
       "..                    ...              ...  \n",
       "895                     0            watch  \n",
       "896                     0            watch  \n",
       "897                     0            watch  \n",
       "898                     0            watch  \n",
       "899                     0            watch  \n",
       "\n",
       "[900 rows x 298 columns]"
      ]
     },
     "execution_count": 281,
     "metadata": {},
     "output_type": "execute_result"
    }
   ],
   "source": [
    "df_test"
   ]
  },
  {
   "cell_type": "code",
   "execution_count": 282,
   "metadata": {
    "execution": {
     "iopub.execute_input": "2022-03-01T14:55:18.206489Z",
     "iopub.status.busy": "2022-03-01T14:55:18.206235Z",
     "iopub.status.idle": "2022-03-01T14:55:18.48083Z",
     "shell.execute_reply": "2022-03-01T14:55:18.479639Z",
     "shell.execute_reply.started": "2022-03-01T14:55:18.206463Z"
    }
   },
   "outputs": [
    {
     "data": {
      "text/plain": [
       "<AxesSubplot:title={'center':'Training set device categroy'}, xlabel='device_category', ylabel='count'>"
      ]
     },
     "execution_count": 282,
     "metadata": {},
     "output_type": "execute_result"
    },
    {
     "data": {
      "image/png": "[encoded data removed]",
      "text/plain": [
       "<Figure size 1440x720 with 1 Axes>"
      ]
     },
     "metadata": {
      "needs_background": "light"
     },
     "output_type": "display_data"
    }
   ],
   "source": [
    "plt.figure(figsize=(20,10))\n",
    "plt.title(\"Training set device categroy\")\n",
    "sns.countplot(data=df_train, x='device_category')"
   ]
  },
  {
   "cell_type": "code",
   "execution_count": 283,
   "metadata": {
    "execution": {
     "iopub.execute_input": "2022-03-01T14:55:18.482715Z",
     "iopub.status.busy": "2022-03-01T14:55:18.482373Z",
     "iopub.status.idle": "2022-03-01T14:55:18.709049Z",
     "shell.execute_reply": "2022-03-01T14:55:18.707668Z",
     "shell.execute_reply.started": "2022-03-01T14:55:18.482682Z"
    }
   },
   "outputs": [
    {
     "data": {
      "text/plain": [
       "<AxesSubplot:title={'center':'Test set device categroy'}, xlabel='device_category', ylabel='count'>"
      ]
     },
     "execution_count": 283,
     "metadata": {},
     "output_type": "execute_result"
    },
    {
     "data": {
      "image/png": "[encoded data removed]",
      "text/plain": [
       "<Figure size 1440x720 with 1 Axes>"
      ]
     },
     "metadata": {
      "needs_background": "light"
     },
     "output_type": "display_data"
    }
   ],
   "source": [
    "plt.figure(figsize=(20,10))\n",
    "plt.title(\"Test set device categroy\")\n",
    "sns.countplot(data=df_test, x='device_category')"
   ]
  },
  {
   "cell_type": "markdown",
   "metadata": {},
   "source": [
    "Since the test dataset doesn't include water sensors, we will join the train and test datasets to create a train test split."
   ]
  },
  {
   "cell_type": "code",
   "execution_count": 284,
   "metadata": {
    "execution": {
     "iopub.execute_input": "2022-03-01T14:55:18.711072Z",
     "iopub.status.busy": "2022-03-01T14:55:18.710757Z",
     "iopub.status.idle": "2022-03-01T14:55:18.750073Z",
     "shell.execute_reply": "2022-03-01T14:55:18.748869Z",
     "shell.execute_reply.started": "2022-03-01T14:55:18.71104Z"
    }
   },
   "outputs": [],
   "source": [
    "df = pd.concat([df_train,df_test],ignore_index=True)"
   ]
  },
  {
   "cell_type": "code",
   "execution_count": 285,
   "metadata": {
    "execution": {
     "iopub.execute_input": "2022-03-01T14:55:18.753223Z",
     "iopub.status.busy": "2022-03-01T14:55:18.752902Z",
     "iopub.status.idle": "2022-03-01T14:55:18.792966Z",
     "shell.execute_reply": "2022-03-01T14:55:18.791761Z",
     "shell.execute_reply.started": "2022-03-01T14:55:18.753194Z"
    }
   },
   "outputs": [
    {
     "data": {
      "text/html": [
       "<div>\n",
       "<style scoped>\n",
       "    .dataframe tbody tr th:only-of-type {\n",
       "        vertical-align: middle;\n",
       "    }\n",
       "\n",
       "    .dataframe tbody tr th {\n",
       "        vertical-align: top;\n",
       "    }\n",
       "\n",
       "    .dataframe thead th {\n",
       "        text-align: right;\n",
       "    }\n",
       "</style>\n",
       "<table border=\"1\" class=\"dataframe\">\n",
       "  <thead>\n",
       "    <tr style=\"text-align: right;\">\n",
       "      <th></th>\n",
       "      <th>ack</th>\n",
       "      <th>ack_A</th>\n",
       "      <th>ack_B</th>\n",
       "      <th>bytes</th>\n",
       "      <th>bytes_A</th>\n",
       "      <th>bytes_A_B_ratio</th>\n",
       "      <th>bytes_B</th>\n",
       "      <th>ds_field_A</th>\n",
       "      <th>ds_field_B</th>\n",
       "      <th>duration</th>\n",
       "      <th>...</th>\n",
       "      <th>suffix_is_co.il</th>\n",
       "      <th>suffix_is_com</th>\n",
       "      <th>suffix_is_com.sg</th>\n",
       "      <th>suffix_is_else</th>\n",
       "      <th>suffix_is_empty_char_value</th>\n",
       "      <th>suffix_is_googleapis.com</th>\n",
       "      <th>suffix_is_net</th>\n",
       "      <th>suffix_is_org</th>\n",
       "      <th>suffix_is_unresolved</th>\n",
       "      <th>device_category</th>\n",
       "    </tr>\n",
       "  </thead>\n",
       "  <tbody>\n",
       "    <tr>\n",
       "      <th>0</th>\n",
       "      <td>9</td>\n",
       "      <td>5</td>\n",
       "      <td>5</td>\n",
       "      <td>1213</td>\n",
       "      <td>743</td>\n",
       "      <td>0.713924</td>\n",
       "      <td>668</td>\n",
       "      <td>0</td>\n",
       "      <td>0</td>\n",
       "      <td>1.5756</td>\n",
       "      <td>...</td>\n",
       "      <td>0</td>\n",
       "      <td>0</td>\n",
       "      <td>0</td>\n",
       "      <td>1</td>\n",
       "      <td>0</td>\n",
       "      <td>0</td>\n",
       "      <td>0</td>\n",
       "      <td>0</td>\n",
       "      <td>0</td>\n",
       "      <td>security_camera</td>\n",
       "    </tr>\n",
       "    <tr>\n",
       "      <th>1</th>\n",
       "      <td>9</td>\n",
       "      <td>5</td>\n",
       "      <td>5</td>\n",
       "      <td>1213</td>\n",
       "      <td>743</td>\n",
       "      <td>1.806874</td>\n",
       "      <td>668</td>\n",
       "      <td>0</td>\n",
       "      <td>0</td>\n",
       "      <td>0.6890</td>\n",
       "      <td>...</td>\n",
       "      <td>0</td>\n",
       "      <td>0</td>\n",
       "      <td>0</td>\n",
       "      <td>1</td>\n",
       "      <td>0</td>\n",
       "      <td>0</td>\n",
       "      <td>0</td>\n",
       "      <td>0</td>\n",
       "      <td>0</td>\n",
       "      <td>security_camera</td>\n",
       "    </tr>\n",
       "    <tr>\n",
       "      <th>2</th>\n",
       "      <td>9</td>\n",
       "      <td>5</td>\n",
       "      <td>5</td>\n",
       "      <td>1213</td>\n",
       "      <td>743</td>\n",
       "      <td>0.103124</td>\n",
       "      <td>668</td>\n",
       "      <td>0</td>\n",
       "      <td>0</td>\n",
       "      <td>0.9852</td>\n",
       "      <td>...</td>\n",
       "      <td>0</td>\n",
       "      <td>0</td>\n",
       "      <td>0</td>\n",
       "      <td>1</td>\n",
       "      <td>0</td>\n",
       "      <td>0</td>\n",
       "      <td>0</td>\n",
       "      <td>0</td>\n",
       "      <td>0</td>\n",
       "      <td>security_camera</td>\n",
       "    </tr>\n",
       "    <tr>\n",
       "      <th>3</th>\n",
       "      <td>9</td>\n",
       "      <td>5</td>\n",
       "      <td>5</td>\n",
       "      <td>1213</td>\n",
       "      <td>743</td>\n",
       "      <td>1.806874</td>\n",
       "      <td>668</td>\n",
       "      <td>0</td>\n",
       "      <td>0</td>\n",
       "      <td>1.5756</td>\n",
       "      <td>...</td>\n",
       "      <td>0</td>\n",
       "      <td>0</td>\n",
       "      <td>0</td>\n",
       "      <td>1</td>\n",
       "      <td>0</td>\n",
       "      <td>0</td>\n",
       "      <td>0</td>\n",
       "      <td>0</td>\n",
       "      <td>0</td>\n",
       "      <td>security_camera</td>\n",
       "    </tr>\n",
       "    <tr>\n",
       "      <th>4</th>\n",
       "      <td>9</td>\n",
       "      <td>5</td>\n",
       "      <td>5</td>\n",
       "      <td>1213</td>\n",
       "      <td>743</td>\n",
       "      <td>1.806874</td>\n",
       "      <td>668</td>\n",
       "      <td>0</td>\n",
       "      <td>0</td>\n",
       "      <td>1.5756</td>\n",
       "      <td>...</td>\n",
       "      <td>0</td>\n",
       "      <td>0</td>\n",
       "      <td>0</td>\n",
       "      <td>1</td>\n",
       "      <td>0</td>\n",
       "      <td>0</td>\n",
       "      <td>0</td>\n",
       "      <td>0</td>\n",
       "      <td>0</td>\n",
       "      <td>security_camera</td>\n",
       "    </tr>\n",
       "    <tr>\n",
       "      <th>...</th>\n",
       "      <td>...</td>\n",
       "      <td>...</td>\n",
       "      <td>...</td>\n",
       "      <td>...</td>\n",
       "      <td>...</td>\n",
       "      <td>...</td>\n",
       "      <td>...</td>\n",
       "      <td>...</td>\n",
       "      <td>...</td>\n",
       "      <td>...</td>\n",
       "      <td>...</td>\n",
       "      <td>...</td>\n",
       "      <td>...</td>\n",
       "      <td>...</td>\n",
       "      <td>...</td>\n",
       "      <td>...</td>\n",
       "      <td>...</td>\n",
       "      <td>...</td>\n",
       "      <td>...</td>\n",
       "      <td>...</td>\n",
       "      <td>...</td>\n",
       "    </tr>\n",
       "    <tr>\n",
       "      <th>1895</th>\n",
       "      <td>264</td>\n",
       "      <td>116</td>\n",
       "      <td>148</td>\n",
       "      <td>212053</td>\n",
       "      <td>202036</td>\n",
       "      <td>20.169310</td>\n",
       "      <td>10017</td>\n",
       "      <td>0</td>\n",
       "      <td>0</td>\n",
       "      <td>250.1856</td>\n",
       "      <td>...</td>\n",
       "      <td>0</td>\n",
       "      <td>0</td>\n",
       "      <td>0</td>\n",
       "      <td>0</td>\n",
       "      <td>1</td>\n",
       "      <td>0</td>\n",
       "      <td>0</td>\n",
       "      <td>0</td>\n",
       "      <td>0</td>\n",
       "      <td>watch</td>\n",
       "    </tr>\n",
       "    <tr>\n",
       "      <th>1896</th>\n",
       "      <td>24</td>\n",
       "      <td>13</td>\n",
       "      <td>11</td>\n",
       "      <td>7749</td>\n",
       "      <td>5364</td>\n",
       "      <td>2.249056</td>\n",
       "      <td>2385</td>\n",
       "      <td>0</td>\n",
       "      <td>0</td>\n",
       "      <td>300.6818</td>\n",
       "      <td>...</td>\n",
       "      <td>0</td>\n",
       "      <td>0</td>\n",
       "      <td>0</td>\n",
       "      <td>1</td>\n",
       "      <td>0</td>\n",
       "      <td>0</td>\n",
       "      <td>0</td>\n",
       "      <td>0</td>\n",
       "      <td>0</td>\n",
       "      <td>watch</td>\n",
       "    </tr>\n",
       "    <tr>\n",
       "      <th>1897</th>\n",
       "      <td>20</td>\n",
       "      <td>9</td>\n",
       "      <td>11</td>\n",
       "      <td>7091</td>\n",
       "      <td>5336</td>\n",
       "      <td>3.040454</td>\n",
       "      <td>1755</td>\n",
       "      <td>0</td>\n",
       "      <td>0</td>\n",
       "      <td>300.9433</td>\n",
       "      <td>...</td>\n",
       "      <td>0</td>\n",
       "      <td>0</td>\n",
       "      <td>0</td>\n",
       "      <td>1</td>\n",
       "      <td>0</td>\n",
       "      <td>0</td>\n",
       "      <td>0</td>\n",
       "      <td>0</td>\n",
       "      <td>0</td>\n",
       "      <td>watch</td>\n",
       "    </tr>\n",
       "    <tr>\n",
       "      <th>1898</th>\n",
       "      <td>30</td>\n",
       "      <td>14</td>\n",
       "      <td>16</td>\n",
       "      <td>7882</td>\n",
       "      <td>5789</td>\n",
       "      <td>2.765885</td>\n",
       "      <td>2093</td>\n",
       "      <td>0</td>\n",
       "      <td>0</td>\n",
       "      <td>244.8219</td>\n",
       "      <td>...</td>\n",
       "      <td>0</td>\n",
       "      <td>0</td>\n",
       "      <td>0</td>\n",
       "      <td>0</td>\n",
       "      <td>1</td>\n",
       "      <td>0</td>\n",
       "      <td>0</td>\n",
       "      <td>0</td>\n",
       "      <td>0</td>\n",
       "      <td>watch</td>\n",
       "    </tr>\n",
       "    <tr>\n",
       "      <th>1899</th>\n",
       "      <td>294</td>\n",
       "      <td>147</td>\n",
       "      <td>147</td>\n",
       "      <td>209972</td>\n",
       "      <td>197919</td>\n",
       "      <td>16.420724</td>\n",
       "      <td>12053</td>\n",
       "      <td>0</td>\n",
       "      <td>0</td>\n",
       "      <td>248.6685</td>\n",
       "      <td>...</td>\n",
       "      <td>0</td>\n",
       "      <td>0</td>\n",
       "      <td>0</td>\n",
       "      <td>1</td>\n",
       "      <td>0</td>\n",
       "      <td>0</td>\n",
       "      <td>0</td>\n",
       "      <td>0</td>\n",
       "      <td>0</td>\n",
       "      <td>watch</td>\n",
       "    </tr>\n",
       "  </tbody>\n",
       "</table>\n",
       "<p>1900 rows × 298 columns</p>\n",
       "</div>"
      ],
      "text/plain": [
       "      ack  ack_A  ack_B   bytes  bytes_A  bytes_A_B_ratio  bytes_B  \\\n",
       "0       9      5      5    1213      743         0.713924      668   \n",
       "1       9      5      5    1213      743         1.806874      668   \n",
       "2       9      5      5    1213      743         0.103124      668   \n",
       "3       9      5      5    1213      743         1.806874      668   \n",
       "4       9      5      5    1213      743         1.806874      668   \n",
       "...   ...    ...    ...     ...      ...              ...      ...   \n",
       "1895  264    116    148  212053   202036        20.169310    10017   \n",
       "1896   24     13     11    7749     5364         2.249056     2385   \n",
       "1897   20      9     11    7091     5336         3.040454     1755   \n",
       "1898   30     14     16    7882     5789         2.765885     2093   \n",
       "1899  294    147    147  209972   197919        16.420724    12053   \n",
       "\n",
       "      ds_field_A  ds_field_B  duration  ...  suffix_is_co.il  suffix_is_com  \\\n",
       "0              0           0    1.5756  ...                0              0   \n",
       "1              0           0    0.6890  ...                0              0   \n",
       "2              0           0    0.9852  ...                0              0   \n",
       "3              0           0    1.5756  ...                0              0   \n",
       "4              0           0    1.5756  ...                0              0   \n",
       "...          ...         ...       ...  ...              ...            ...   \n",
       "1895           0           0  250.1856  ...                0              0   \n",
       "1896           0           0  300.6818  ...                0              0   \n",
       "1897           0           0  300.9433  ...                0              0   \n",
       "1898           0           0  244.8219  ...                0              0   \n",
       "1899           0           0  248.6685  ...                0              0   \n",
       "\n",
       "      suffix_is_com.sg  suffix_is_else  suffix_is_empty_char_value  \\\n",
       "0                    0               1                           0   \n",
       "1                    0               1                           0   \n",
       "2                    0               1                           0   \n",
       "3                    0               1                           0   \n",
       "4                    0               1                           0   \n",
       "...                ...             ...                         ...   \n",
       "1895                 0               0                           1   \n",
       "1896                 0               1                           0   \n",
       "1897                 0               1                           0   \n",
       "1898                 0               0                           1   \n",
       "1899                 0               1                           0   \n",
       "\n",
       "      suffix_is_googleapis.com  suffix_is_net  suffix_is_org  \\\n",
       "0                            0              0              0   \n",
       "1                            0              0              0   \n",
       "2                            0              0              0   \n",
       "3                            0              0              0   \n",
       "4                            0              0              0   \n",
       "...                        ...            ...            ...   \n",
       "1895                         0              0              0   \n",
       "1896                         0              0              0   \n",
       "1897                         0              0              0   \n",
       "1898                         0              0              0   \n",
       "1899                         0              0              0   \n",
       "\n",
       "      suffix_is_unresolved  device_category  \n",
       "0                        0  security_camera  \n",
       "1                        0  security_camera  \n",
       "2                        0  security_camera  \n",
       "3                        0  security_camera  \n",
       "4                        0  security_camera  \n",
       "...                    ...              ...  \n",
       "1895                     0            watch  \n",
       "1896                     0            watch  \n",
       "1897                     0            watch  \n",
       "1898                     0            watch  \n",
       "1899                     0            watch  \n",
       "\n",
       "[1900 rows x 298 columns]"
      ]
     },
     "execution_count": 285,
     "metadata": {},
     "output_type": "execute_result"
    }
   ],
   "source": [
    "df"
   ]
  },
  {
   "cell_type": "code",
   "execution_count": 286,
   "metadata": {
    "execution": {
     "iopub.execute_input": "2022-03-01T14:55:18.795346Z",
     "iopub.status.busy": "2022-03-01T14:55:18.795042Z",
     "iopub.status.idle": "2022-03-01T14:55:19.038959Z",
     "shell.execute_reply": "2022-03-01T14:55:19.037846Z",
     "shell.execute_reply.started": "2022-03-01T14:55:18.795317Z"
    }
   },
   "outputs": [
    {
     "data": {
      "text/plain": [
       "<AxesSubplot:title={'center':'Count of device categroy'}, xlabel='device_category', ylabel='count'>"
      ]
     },
     "execution_count": 286,
     "metadata": {},
     "output_type": "execute_result"
    },
    {
     "data": {
      "image/png": "[encoded data removed]",
      "text/plain": [
       "<Figure size 1440x720 with 1 Axes>"
      ]
     },
     "metadata": {
      "needs_background": "light"
     },
     "output_type": "display_data"
    }
   ],
   "source": [
    "plt.figure(figsize=(20,10))\n",
    "plt.title(\"Count of device categroy\")\n",
    "sns.countplot(data=df, x='device_category')"
   ]
  },
  {
   "cell_type": "code",
   "execution_count": 287,
   "metadata": {
    "execution": {
     "iopub.execute_input": "2022-03-01T14:55:19.041231Z",
     "iopub.status.busy": "2022-03-01T14:55:19.04081Z",
     "iopub.status.idle": "2022-03-01T14:55:19.071274Z",
     "shell.execute_reply": "2022-03-01T14:55:19.07047Z",
     "shell.execute_reply.started": "2022-03-01T14:55:19.041188Z"
    }
   },
   "outputs": [
    {
     "name": "stdout",
     "output_type": "stream",
     "text": [
      "<class 'pandas.core.frame.DataFrame'>\n",
      "RangeIndex: 1900 entries, 0 to 1899\n",
      "Columns: 298 entries, ack to device_category\n",
      "dtypes: float64(123), int64(174), object(1)\n",
      "memory usage: 4.3+ MB\n"
     ]
    }
   ],
   "source": [
    "df.info()"
   ]
  },
  {
   "cell_type": "code",
   "execution_count": 288,
   "metadata": {
    "execution": {
     "iopub.execute_input": "2022-03-01T14:55:19.073372Z",
     "iopub.status.busy": "2022-03-01T14:55:19.072763Z",
     "iopub.status.idle": "2022-03-01T14:55:19.897041Z",
     "shell.execute_reply": "2022-03-01T14:55:19.895976Z",
     "shell.execute_reply.started": "2022-03-01T14:55:19.07332Z"
    }
   },
   "outputs": [
    {
     "data": {
      "text/html": [
       "<div>\n",
       "<style scoped>\n",
       "    .dataframe tbody tr th:only-of-type {\n",
       "        vertical-align: middle;\n",
       "    }\n",
       "\n",
       "    .dataframe tbody tr th {\n",
       "        vertical-align: top;\n",
       "    }\n",
       "\n",
       "    .dataframe thead th {\n",
       "        text-align: right;\n",
       "    }\n",
       "</style>\n",
       "<table border=\"1\" class=\"dataframe\">\n",
       "  <thead>\n",
       "    <tr style=\"text-align: right;\">\n",
       "      <th></th>\n",
       "      <th>count</th>\n",
       "      <th>mean</th>\n",
       "      <th>std</th>\n",
       "      <th>min</th>\n",
       "      <th>25%</th>\n",
       "      <th>50%</th>\n",
       "      <th>75%</th>\n",
       "      <th>max</th>\n",
       "    </tr>\n",
       "  </thead>\n",
       "  <tbody>\n",
       "    <tr>\n",
       "      <th>ack</th>\n",
       "      <td>1900.0</td>\n",
       "      <td>227.773158</td>\n",
       "      <td>4.461165e+03</td>\n",
       "      <td>0.0</td>\n",
       "      <td>0.0</td>\n",
       "      <td>9.0</td>\n",
       "      <td>15.0</td>\n",
       "      <td>184378.0</td>\n",
       "    </tr>\n",
       "    <tr>\n",
       "      <th>ack_A</th>\n",
       "      <td>1900.0</td>\n",
       "      <td>81.211579</td>\n",
       "      <td>1.125547e+03</td>\n",
       "      <td>0.0</td>\n",
       "      <td>0.0</td>\n",
       "      <td>5.0</td>\n",
       "      <td>7.0</td>\n",
       "      <td>39265.0</td>\n",
       "    </tr>\n",
       "    <tr>\n",
       "      <th>ack_B</th>\n",
       "      <td>1900.0</td>\n",
       "      <td>146.878947</td>\n",
       "      <td>3.415513e+03</td>\n",
       "      <td>0.0</td>\n",
       "      <td>0.0</td>\n",
       "      <td>5.0</td>\n",
       "      <td>8.0</td>\n",
       "      <td>145113.0</td>\n",
       "    </tr>\n",
       "    <tr>\n",
       "      <th>bytes</th>\n",
       "      <td>1900.0</td>\n",
       "      <td>149868.166842</td>\n",
       "      <td>4.937287e+06</td>\n",
       "      <td>60.0</td>\n",
       "      <td>240.0</td>\n",
       "      <td>1213.0</td>\n",
       "      <td>2411.0</td>\n",
       "      <td>213714584.0</td>\n",
       "    </tr>\n",
       "    <tr>\n",
       "      <th>bytes_A</th>\n",
       "      <td>1900.0</td>\n",
       "      <td>142106.884211</td>\n",
       "      <td>4.870776e+06</td>\n",
       "      <td>0.0</td>\n",
       "      <td>0.0</td>\n",
       "      <td>743.0</td>\n",
       "      <td>1160.0</td>\n",
       "      <td>210863813.0</td>\n",
       "    </tr>\n",
       "    <tr>\n",
       "      <th>...</th>\n",
       "      <td>...</td>\n",
       "      <td>...</td>\n",
       "      <td>...</td>\n",
       "      <td>...</td>\n",
       "      <td>...</td>\n",
       "      <td>...</td>\n",
       "      <td>...</td>\n",
       "      <td>...</td>\n",
       "    </tr>\n",
       "    <tr>\n",
       "      <th>suffix_is_empty_char_value</th>\n",
       "      <td>1900.0</td>\n",
       "      <td>0.318947</td>\n",
       "      <td>4.661913e-01</td>\n",
       "      <td>0.0</td>\n",
       "      <td>0.0</td>\n",
       "      <td>0.0</td>\n",
       "      <td>1.0</td>\n",
       "      <td>1.0</td>\n",
       "    </tr>\n",
       "    <tr>\n",
       "      <th>suffix_is_googleapis.com</th>\n",
       "      <td>1900.0</td>\n",
       "      <td>0.000000</td>\n",
       "      <td>0.000000e+00</td>\n",
       "      <td>0.0</td>\n",
       "      <td>0.0</td>\n",
       "      <td>0.0</td>\n",
       "      <td>0.0</td>\n",
       "      <td>0.0</td>\n",
       "    </tr>\n",
       "    <tr>\n",
       "      <th>suffix_is_net</th>\n",
       "      <td>1900.0</td>\n",
       "      <td>0.000000</td>\n",
       "      <td>0.000000e+00</td>\n",
       "      <td>0.0</td>\n",
       "      <td>0.0</td>\n",
       "      <td>0.0</td>\n",
       "      <td>0.0</td>\n",
       "      <td>0.0</td>\n",
       "    </tr>\n",
       "    <tr>\n",
       "      <th>suffix_is_org</th>\n",
       "      <td>1900.0</td>\n",
       "      <td>0.000000</td>\n",
       "      <td>0.000000e+00</td>\n",
       "      <td>0.0</td>\n",
       "      <td>0.0</td>\n",
       "      <td>0.0</td>\n",
       "      <td>0.0</td>\n",
       "      <td>0.0</td>\n",
       "    </tr>\n",
       "    <tr>\n",
       "      <th>suffix_is_unresolved</th>\n",
       "      <td>1900.0</td>\n",
       "      <td>0.044211</td>\n",
       "      <td>2.056167e-01</td>\n",
       "      <td>0.0</td>\n",
       "      <td>0.0</td>\n",
       "      <td>0.0</td>\n",
       "      <td>0.0</td>\n",
       "      <td>1.0</td>\n",
       "    </tr>\n",
       "  </tbody>\n",
       "</table>\n",
       "<p>297 rows × 8 columns</p>\n",
       "</div>"
      ],
      "text/plain": [
       "                             count           mean           std   min    25%  \\\n",
       "ack                         1900.0     227.773158  4.461165e+03   0.0    0.0   \n",
       "ack_A                       1900.0      81.211579  1.125547e+03   0.0    0.0   \n",
       "ack_B                       1900.0     146.878947  3.415513e+03   0.0    0.0   \n",
       "bytes                       1900.0  149868.166842  4.937287e+06  60.0  240.0   \n",
       "bytes_A                     1900.0  142106.884211  4.870776e+06   0.0    0.0   \n",
       "...                            ...            ...           ...   ...    ...   \n",
       "suffix_is_empty_char_value  1900.0       0.318947  4.661913e-01   0.0    0.0   \n",
       "suffix_is_googleapis.com    1900.0       0.000000  0.000000e+00   0.0    0.0   \n",
       "suffix_is_net               1900.0       0.000000  0.000000e+00   0.0    0.0   \n",
       "suffix_is_org               1900.0       0.000000  0.000000e+00   0.0    0.0   \n",
       "suffix_is_unresolved        1900.0       0.044211  2.056167e-01   0.0    0.0   \n",
       "\n",
       "                               50%     75%          max  \n",
       "ack                            9.0    15.0     184378.0  \n",
       "ack_A                          5.0     7.0      39265.0  \n",
       "ack_B                          5.0     8.0     145113.0  \n",
       "bytes                       1213.0  2411.0  213714584.0  \n",
       "bytes_A                      743.0  1160.0  210863813.0  \n",
       "...                            ...     ...          ...  \n",
       "suffix_is_empty_char_value     0.0     1.0          1.0  \n",
       "suffix_is_googleapis.com       0.0     0.0          0.0  \n",
       "suffix_is_net                  0.0     0.0          0.0  \n",
       "suffix_is_org                  0.0     0.0          0.0  \n",
       "suffix_is_unresolved           0.0     0.0          1.0  \n",
       "\n",
       "[297 rows x 8 columns]"
      ]
     },
     "execution_count": 288,
     "metadata": {},
     "output_type": "execute_result"
    }
   ],
   "source": [
    "df.describe().transpose()"
   ]
  },
  {
   "cell_type": "markdown",
   "metadata": {},
   "source": [
    "## Removing columns with single unique value"
   ]
  },
  {
   "cell_type": "code",
   "execution_count": 289,
   "metadata": {
    "execution": {
     "iopub.execute_input": "2022-03-01T14:55:19.899204Z",
     "iopub.status.busy": "2022-03-01T14:55:19.898647Z",
     "iopub.status.idle": "2022-03-01T14:55:19.943872Z",
     "shell.execute_reply": "2022-03-01T14:55:19.942744Z",
     "shell.execute_reply.started": "2022-03-01T14:55:19.899156Z"
    }
   },
   "outputs": [],
   "source": [
    "to_remove = []\n",
    "\n",
    "for col in df.columns:\n",
    "    if len(df[col].unique()) == 1:\n",
    "        to_remove.append(col)\n"
   ]
  },
  {
   "cell_type": "code",
   "execution_count": 290,
   "metadata": {
    "execution": {
     "iopub.execute_input": "2022-03-01T14:55:19.945913Z",
     "iopub.status.busy": "2022-03-01T14:55:19.945464Z",
     "iopub.status.idle": "2022-03-01T14:55:19.953248Z",
     "shell.execute_reply": "2022-03-01T14:55:19.952337Z",
     "shell.execute_reply.started": "2022-03-01T14:55:19.94587Z"
    }
   },
   "outputs": [
    {
     "data": {
      "text/plain": [
       "['ds_field_A',\n",
       " 'http_cookie_values_entropy',\n",
       " 'http_cookie_values_stdev',\n",
       " 'http_cookie_values_var',\n",
       " 'http_req_bytes_entropy',\n",
       " 'http_req_bytes_stdev',\n",
       " 'http_req_bytes_var',\n",
       " 'packet_size_B_min',\n",
       " 'packet_size_min',\n",
       " 'ssl_handshake_duration_entropy',\n",
       " 'ssl_handshake_duration_stdev',\n",
       " 'ssl_handshake_duration_var',\n",
       " 'ttl_A_entropy',\n",
       " 'ttl_A_stdev',\n",
       " 'ttl_A_var',\n",
       " 'is_g_http',\n",
       " 'is_cdn_http',\n",
       " 'is_img_http',\n",
       " 'is_ad_http',\n",
       " 'B_port_is_5222',\n",
       " 'B_port_is_5223',\n",
       " 'B_port_is_54975',\n",
       " 'B_port_is_8280',\n",
       " 'B_port_is_9543',\n",
       " 'subdomain_is_99sets',\n",
       " 'subdomain_is_ccc',\n",
       " 'subdomain_is_feeds',\n",
       " 'subdomain_is_h10141.www1',\n",
       " 'subdomain_is_img',\n",
       " 'subdomain_is_whp.aus1.cold.extweb',\n",
       " 'subdomain_is_whp.hou9.cold.extweb',\n",
       " 'domain_is_epicurious',\n",
       " 'domain_is_hp',\n",
       " 'domain_is_hpeprint',\n",
       " 'domain_is_livecdn',\n",
       " 'domain_is_mako',\n",
       " 'domain_is_samsung',\n",
       " 'suffix_is_biz',\n",
       " 'suffix_is_cloudfront.net',\n",
       " 'suffix_is_co.il',\n",
       " 'suffix_is_com.sg',\n",
       " 'suffix_is_googleapis.com',\n",
       " 'suffix_is_net',\n",
       " 'suffix_is_org']"
      ]
     },
     "execution_count": 290,
     "metadata": {},
     "output_type": "execute_result"
    }
   ],
   "source": [
    "to_remove"
   ]
  },
  {
   "cell_type": "code",
   "execution_count": 291,
   "metadata": {
    "execution": {
     "iopub.execute_input": "2022-03-01T14:55:19.955718Z",
     "iopub.status.busy": "2022-03-01T14:55:19.95535Z",
     "iopub.status.idle": "2022-03-01T14:55:19.967495Z",
     "shell.execute_reply": "2022-03-01T14:55:19.966202Z",
     "shell.execute_reply.started": "2022-03-01T14:55:19.955686Z"
    }
   },
   "outputs": [],
   "source": [
    "df = df.drop(to_remove, axis=1)"
   ]
  },
  {
   "cell_type": "code",
   "execution_count": 292,
   "metadata": {
    "execution": {
     "iopub.execute_input": "2022-03-01T14:55:19.969319Z",
     "iopub.status.busy": "2022-03-01T14:55:19.968988Z",
     "iopub.status.idle": "2022-03-01T14:55:20.52901Z",
     "shell.execute_reply": "2022-03-01T14:55:20.528003Z",
     "shell.execute_reply.started": "2022-03-01T14:55:19.969286Z"
    }
   },
   "outputs": [
    {
     "data": {
      "text/html": [
       "<div>\n",
       "<style scoped>\n",
       "    .dataframe tbody tr th:only-of-type {\n",
       "        vertical-align: middle;\n",
       "    }\n",
       "\n",
       "    .dataframe tbody tr th {\n",
       "        vertical-align: top;\n",
       "    }\n",
       "\n",
       "    .dataframe thead th {\n",
       "        text-align: right;\n",
       "    }\n",
       "</style>\n",
       "<table border=\"1\" class=\"dataframe\">\n",
       "  <thead>\n",
       "    <tr style=\"text-align: right;\">\n",
       "      <th></th>\n",
       "      <th>ack</th>\n",
       "      <th>ack_A</th>\n",
       "      <th>ack_B</th>\n",
       "      <th>bytes</th>\n",
       "      <th>bytes_A</th>\n",
       "      <th>bytes_A_B_ratio</th>\n",
       "      <th>bytes_B</th>\n",
       "      <th>ds_field_B</th>\n",
       "      <th>duration</th>\n",
       "      <th>http_GET</th>\n",
       "      <th>...</th>\n",
       "      <th>subdomain_is_www.cloud</th>\n",
       "      <th>domain_is_dlink</th>\n",
       "      <th>domain_is_else</th>\n",
       "      <th>domain_is_google</th>\n",
       "      <th>domain_is_proteussensor</th>\n",
       "      <th>domain_is_unresolved</th>\n",
       "      <th>suffix_is_com</th>\n",
       "      <th>suffix_is_else</th>\n",
       "      <th>suffix_is_empty_char_value</th>\n",
       "      <th>suffix_is_unresolved</th>\n",
       "    </tr>\n",
       "  </thead>\n",
       "  <tbody>\n",
       "    <tr>\n",
       "      <th>count</th>\n",
       "      <td>1900.000000</td>\n",
       "      <td>1900.000000</td>\n",
       "      <td>1900.000000</td>\n",
       "      <td>1.900000e+03</td>\n",
       "      <td>1.900000e+03</td>\n",
       "      <td>1900.000000</td>\n",
       "      <td>1.900000e+03</td>\n",
       "      <td>1900.000000</td>\n",
       "      <td>1900.000000</td>\n",
       "      <td>1900.000000</td>\n",
       "      <td>...</td>\n",
       "      <td>1900.000000</td>\n",
       "      <td>1900.000000</td>\n",
       "      <td>1900.000000</td>\n",
       "      <td>1900.000000</td>\n",
       "      <td>1900.000000</td>\n",
       "      <td>1900.000000</td>\n",
       "      <td>1900.000000</td>\n",
       "      <td>1900.000000</td>\n",
       "      <td>1900.000000</td>\n",
       "      <td>1900.000000</td>\n",
       "    </tr>\n",
       "    <tr>\n",
       "      <th>mean</th>\n",
       "      <td>227.773158</td>\n",
       "      <td>81.211579</td>\n",
       "      <td>146.878947</td>\n",
       "      <td>1.498682e+05</td>\n",
       "      <td>1.421069e+05</td>\n",
       "      <td>1.181570</td>\n",
       "      <td>7.824499e+03</td>\n",
       "      <td>16.951579</td>\n",
       "      <td>267.929434</td>\n",
       "      <td>0.086842</td>\n",
       "      <td>...</td>\n",
       "      <td>0.011053</td>\n",
       "      <td>0.003684</td>\n",
       "      <td>0.877895</td>\n",
       "      <td>0.002105</td>\n",
       "      <td>0.011053</td>\n",
       "      <td>0.044211</td>\n",
       "      <td>0.019474</td>\n",
       "      <td>0.555789</td>\n",
       "      <td>0.318947</td>\n",
       "      <td>0.044211</td>\n",
       "    </tr>\n",
       "    <tr>\n",
       "      <th>std</th>\n",
       "      <td>4461.164912</td>\n",
       "      <td>1125.546944</td>\n",
       "      <td>3415.513067</td>\n",
       "      <td>4.937287e+06</td>\n",
       "      <td>4.870776e+06</td>\n",
       "      <td>3.477177</td>\n",
       "      <td>7.768975e+04</td>\n",
       "      <td>28.199316</td>\n",
       "      <td>3157.437208</td>\n",
       "      <td>0.281678</td>\n",
       "      <td>...</td>\n",
       "      <td>0.104576</td>\n",
       "      <td>0.060602</td>\n",
       "      <td>0.327494</td>\n",
       "      <td>0.045847</td>\n",
       "      <td>0.104576</td>\n",
       "      <td>0.205617</td>\n",
       "      <td>0.138219</td>\n",
       "      <td>0.497009</td>\n",
       "      <td>0.466191</td>\n",
       "      <td>0.205617</td>\n",
       "    </tr>\n",
       "    <tr>\n",
       "      <th>min</th>\n",
       "      <td>0.000000</td>\n",
       "      <td>0.000000</td>\n",
       "      <td>0.000000</td>\n",
       "      <td>6.000000e+01</td>\n",
       "      <td>0.000000e+00</td>\n",
       "      <td>0.000000</td>\n",
       "      <td>6.000000e+01</td>\n",
       "      <td>0.000000</td>\n",
       "      <td>0.000000</td>\n",
       "      <td>0.000000</td>\n",
       "      <td>...</td>\n",
       "      <td>0.000000</td>\n",
       "      <td>0.000000</td>\n",
       "      <td>0.000000</td>\n",
       "      <td>0.000000</td>\n",
       "      <td>0.000000</td>\n",
       "      <td>0.000000</td>\n",
       "      <td>0.000000</td>\n",
       "      <td>0.000000</td>\n",
       "      <td>0.000000</td>\n",
       "      <td>0.000000</td>\n",
       "    </tr>\n",
       "    <tr>\n",
       "      <th>25%</th>\n",
       "      <td>0.000000</td>\n",
       "      <td>0.000000</td>\n",
       "      <td>0.000000</td>\n",
       "      <td>2.400000e+02</td>\n",
       "      <td>0.000000e+00</td>\n",
       "      <td>0.000000</td>\n",
       "      <td>2.400000e+02</td>\n",
       "      <td>0.000000</td>\n",
       "      <td>1.487675</td>\n",
       "      <td>0.000000</td>\n",
       "      <td>...</td>\n",
       "      <td>0.000000</td>\n",
       "      <td>0.000000</td>\n",
       "      <td>1.000000</td>\n",
       "      <td>0.000000</td>\n",
       "      <td>0.000000</td>\n",
       "      <td>0.000000</td>\n",
       "      <td>0.000000</td>\n",
       "      <td>0.000000</td>\n",
       "      <td>0.000000</td>\n",
       "      <td>0.000000</td>\n",
       "    </tr>\n",
       "    <tr>\n",
       "      <th>50%</th>\n",
       "      <td>9.000000</td>\n",
       "      <td>5.000000</td>\n",
       "      <td>5.000000</td>\n",
       "      <td>1.213000e+03</td>\n",
       "      <td>7.430000e+02</td>\n",
       "      <td>0.622177</td>\n",
       "      <td>6.680000e+02</td>\n",
       "      <td>0.000000</td>\n",
       "      <td>1.575600</td>\n",
       "      <td>0.000000</td>\n",
       "      <td>...</td>\n",
       "      <td>0.000000</td>\n",
       "      <td>0.000000</td>\n",
       "      <td>1.000000</td>\n",
       "      <td>0.000000</td>\n",
       "      <td>0.000000</td>\n",
       "      <td>0.000000</td>\n",
       "      <td>0.000000</td>\n",
       "      <td>1.000000</td>\n",
       "      <td>0.000000</td>\n",
       "      <td>0.000000</td>\n",
       "    </tr>\n",
       "    <tr>\n",
       "      <th>75%</th>\n",
       "      <td>15.000000</td>\n",
       "      <td>7.000000</td>\n",
       "      <td>8.000000</td>\n",
       "      <td>2.411000e+03</td>\n",
       "      <td>1.160000e+03</td>\n",
       "      <td>1.201825</td>\n",
       "      <td>1.096000e+03</td>\n",
       "      <td>64.000000</td>\n",
       "      <td>1.630525</td>\n",
       "      <td>0.000000</td>\n",
       "      <td>...</td>\n",
       "      <td>0.000000</td>\n",
       "      <td>0.000000</td>\n",
       "      <td>1.000000</td>\n",
       "      <td>0.000000</td>\n",
       "      <td>0.000000</td>\n",
       "      <td>0.000000</td>\n",
       "      <td>0.000000</td>\n",
       "      <td>1.000000</td>\n",
       "      <td>1.000000</td>\n",
       "      <td>0.000000</td>\n",
       "    </tr>\n",
       "    <tr>\n",
       "      <th>max</th>\n",
       "      <td>184378.000000</td>\n",
       "      <td>39265.000000</td>\n",
       "      <td>145113.000000</td>\n",
       "      <td>2.137146e+08</td>\n",
       "      <td>2.108638e+08</td>\n",
       "      <td>73.967293</td>\n",
       "      <td>2.850771e+06</td>\n",
       "      <td>64.000000</td>\n",
       "      <td>58432.650400</td>\n",
       "      <td>1.000000</td>\n",
       "      <td>...</td>\n",
       "      <td>1.000000</td>\n",
       "      <td>1.000000</td>\n",
       "      <td>1.000000</td>\n",
       "      <td>1.000000</td>\n",
       "      <td>1.000000</td>\n",
       "      <td>1.000000</td>\n",
       "      <td>1.000000</td>\n",
       "      <td>1.000000</td>\n",
       "      <td>1.000000</td>\n",
       "      <td>1.000000</td>\n",
       "    </tr>\n",
       "  </tbody>\n",
       "</table>\n",
       "<p>8 rows × 253 columns</p>\n",
       "</div>"
      ],
      "text/plain": [
       "                 ack         ack_A          ack_B         bytes       bytes_A  \\\n",
       "count    1900.000000   1900.000000    1900.000000  1.900000e+03  1.900000e+03   \n",
       "mean      227.773158     81.211579     146.878947  1.498682e+05  1.421069e+05   \n",
       "std      4461.164912   1125.546944    3415.513067  4.937287e+06  4.870776e+06   \n",
       "min         0.000000      0.000000       0.000000  6.000000e+01  0.000000e+00   \n",
       "25%         0.000000      0.000000       0.000000  2.400000e+02  0.000000e+00   \n",
       "50%         9.000000      5.000000       5.000000  1.213000e+03  7.430000e+02   \n",
       "75%        15.000000      7.000000       8.000000  2.411000e+03  1.160000e+03   \n",
       "max    184378.000000  39265.000000  145113.000000  2.137146e+08  2.108638e+08   \n",
       "\n",
       "       bytes_A_B_ratio       bytes_B   ds_field_B      duration     http_GET  \\\n",
       "count      1900.000000  1.900000e+03  1900.000000   1900.000000  1900.000000   \n",
       "mean          1.181570  7.824499e+03    16.951579    267.929434     0.086842   \n",
       "std           3.477177  7.768975e+04    28.199316   3157.437208     0.281678   \n",
       "min           0.000000  6.000000e+01     0.000000      0.000000     0.000000   \n",
       "25%           0.000000  2.400000e+02     0.000000      1.487675     0.000000   \n",
       "50%           0.622177  6.680000e+02     0.000000      1.575600     0.000000   \n",
       "75%           1.201825  1.096000e+03    64.000000      1.630525     0.000000   \n",
       "max          73.967293  2.850771e+06    64.000000  58432.650400     1.000000   \n",
       "\n",
       "       ...  subdomain_is_www.cloud  domain_is_dlink  domain_is_else  \\\n",
       "count  ...             1900.000000      1900.000000     1900.000000   \n",
       "mean   ...                0.011053         0.003684        0.877895   \n",
       "std    ...                0.104576         0.060602        0.327494   \n",
       "min    ...                0.000000         0.000000        0.000000   \n",
       "25%    ...                0.000000         0.000000        1.000000   \n",
       "50%    ...                0.000000         0.000000        1.000000   \n",
       "75%    ...                0.000000         0.000000        1.000000   \n",
       "max    ...                1.000000         1.000000        1.000000   \n",
       "\n",
       "       domain_is_google  domain_is_proteussensor  domain_is_unresolved  \\\n",
       "count       1900.000000              1900.000000           1900.000000   \n",
       "mean           0.002105                 0.011053              0.044211   \n",
       "std            0.045847                 0.104576              0.205617   \n",
       "min            0.000000                 0.000000              0.000000   \n",
       "25%            0.000000                 0.000000              0.000000   \n",
       "50%            0.000000                 0.000000              0.000000   \n",
       "75%            0.000000                 0.000000              0.000000   \n",
       "max            1.000000                 1.000000              1.000000   \n",
       "\n",
       "       suffix_is_com  suffix_is_else  suffix_is_empty_char_value  \\\n",
       "count    1900.000000     1900.000000                 1900.000000   \n",
       "mean        0.019474        0.555789                    0.318947   \n",
       "std         0.138219        0.497009                    0.466191   \n",
       "min         0.000000        0.000000                    0.000000   \n",
       "25%         0.000000        0.000000                    0.000000   \n",
       "50%         0.000000        1.000000                    0.000000   \n",
       "75%         0.000000        1.000000                    1.000000   \n",
       "max         1.000000        1.000000                    1.000000   \n",
       "\n",
       "       suffix_is_unresolved  \n",
       "count           1900.000000  \n",
       "mean               0.044211  \n",
       "std                0.205617  \n",
       "min                0.000000  \n",
       "25%                0.000000  \n",
       "50%                0.000000  \n",
       "75%                0.000000  \n",
       "max                1.000000  \n",
       "\n",
       "[8 rows x 253 columns]"
      ]
     },
     "execution_count": 292,
     "metadata": {},
     "output_type": "execute_result"
    }
   ],
   "source": [
    "df.describe()"
   ]
  },
  {
   "cell_type": "code",
   "execution_count": 293,
   "metadata": {
    "execution": {
     "iopub.execute_input": "2022-03-01T14:55:25.251674Z",
     "iopub.status.busy": "2022-03-01T14:55:25.251338Z",
     "iopub.status.idle": "2022-03-01T14:55:25.258446Z",
     "shell.execute_reply": "2022-03-01T14:55:25.257252Z",
     "shell.execute_reply.started": "2022-03-01T14:55:25.25164Z"
    }
   },
   "outputs": [
    {
     "data": {
      "text/plain": [
       "Index(['ack', 'ack_A', 'ack_B', 'bytes', 'bytes_A', 'bytes_A_B_ratio',\n",
       "       'bytes_B', 'ds_field_B', 'duration', 'http_GET',\n",
       "       ...\n",
       "       'domain_is_dlink', 'domain_is_else', 'domain_is_google',\n",
       "       'domain_is_proteussensor', 'domain_is_unresolved', 'suffix_is_com',\n",
       "       'suffix_is_else', 'suffix_is_empty_char_value', 'suffix_is_unresolved',\n",
       "       'device_category'],\n",
       "      dtype='object', length=254)"
      ]
     },
     "execution_count": 293,
     "metadata": {},
     "output_type": "execute_result"
    }
   ],
   "source": [
    "df.columns"
   ]
  },
  {
   "cell_type": "markdown",
   "metadata": {},
   "source": [
    "# Modelling"
   ]
  },
  {
   "cell_type": "code",
   "execution_count": 294,
   "metadata": {
    "execution": {
     "iopub.execute_input": "2022-03-01T14:55:25.260186Z",
     "iopub.status.busy": "2022-03-01T14:55:25.259869Z",
     "iopub.status.idle": "2022-03-01T14:55:25.275244Z",
     "shell.execute_reply": "2022-03-01T14:55:25.274125Z",
     "shell.execute_reply.started": "2022-03-01T14:55:25.260155Z"
    }
   },
   "outputs": [],
   "source": [
    "X = df.drop('device_category', axis=1)\n",
    "y = df['device_category']"
   ]
  },
  {
   "cell_type": "code",
   "execution_count": 295,
   "metadata": {
    "execution": {
     "iopub.execute_input": "2022-03-01T14:55:25.277233Z",
     "iopub.status.busy": "2022-03-01T14:55:25.276605Z",
     "iopub.status.idle": "2022-03-01T14:55:25.481642Z",
     "shell.execute_reply": "2022-03-01T14:55:25.480689Z",
     "shell.execute_reply.started": "2022-03-01T14:55:25.277199Z"
    }
   },
   "outputs": [],
   "source": [
    "from sklearn.model_selection import train_test_split\n",
    "from sklearn.preprocessing import StandardScaler"
   ]
  },
  {
   "cell_type": "code",
   "execution_count": 296,
   "metadata": {
    "execution": {
     "iopub.execute_input": "2022-03-01T14:55:25.483312Z",
     "iopub.status.busy": "2022-03-01T14:55:25.483024Z",
     "iopub.status.idle": "2022-03-01T14:55:25.497448Z",
     "shell.execute_reply": "2022-03-01T14:55:25.496181Z",
     "shell.execute_reply.started": "2022-03-01T14:55:25.483284Z"
    }
   },
   "outputs": [],
   "source": [
    "X_train, X_test, y_train, y_test = train_test_split(X, y, test_size=0.3, random_state=42)"
   ]
  },
  {
   "cell_type": "code",
   "execution_count": 297,
   "metadata": {
    "execution": {
     "iopub.execute_input": "2022-03-01T14:55:25.49929Z",
     "iopub.status.busy": "2022-03-01T14:55:25.498962Z",
     "iopub.status.idle": "2022-03-01T14:55:25.536939Z",
     "shell.execute_reply": "2022-03-01T14:55:25.536088Z",
     "shell.execute_reply.started": "2022-03-01T14:55:25.499259Z"
    }
   },
   "outputs": [],
   "source": [
    "scaler = StandardScaler()\n",
    "X_train = scaler.fit_transform(X_train)\n",
    "X_test = scaler.transform(X_test)"
   ]
  },
  {
   "cell_type": "markdown",
   "metadata": {},
   "source": [
    "## Model Imports"
   ]
  },
  {
   "cell_type": "code",
   "execution_count": 298,
   "metadata": {
    "execution": {
     "iopub.execute_input": "2022-03-01T14:55:25.538704Z",
     "iopub.status.busy": "2022-03-01T14:55:25.53823Z",
     "iopub.status.idle": "2022-03-01T14:55:27.223314Z",
     "shell.execute_reply": "2022-03-01T14:55:27.222171Z",
     "shell.execute_reply.started": "2022-03-01T14:55:25.538667Z"
    }
   },
   "outputs": [],
   "source": [
    "from sklearn.linear_model import LogisticRegression\n",
    "from sklearn.neighbors import KNeighborsClassifier\n",
    "from sklearn.svm import SVC\n",
    "from sklearn.tree import DecisionTreeClassifier\n",
    "from sklearn.ensemble import RandomForestClassifier, AdaBoostClassifier, GradientBoostingClassifier\n",
    "from xgboost import XGBClassifier, XGBRFClassifier\n",
    "from catboost import CatBoostClassifier\n",
    "from lightgbm import LGBMClassifier"
   ]
  },
  {
   "cell_type": "markdown",
   "metadata": {},
   "source": [
    "## Baseline Model Scores"
   ]
  },
  {
   "cell_type": "code",
   "execution_count": 299,
   "metadata": {
    "execution": {
     "iopub.execute_input": "2022-03-01T14:55:27.228955Z",
     "iopub.status.busy": "2022-03-01T14:55:27.228644Z",
     "iopub.status.idle": "2022-03-01T14:55:27.235582Z",
     "shell.execute_reply": "2022-03-01T14:55:27.234361Z",
     "shell.execute_reply.started": "2022-03-01T14:55:27.228926Z"
    }
   },
   "outputs": [],
   "source": [
    "def fit_and_score(models, X_train, X_test, y_train, y_test):\n",
    "    np.random.seed(42)\n",
    "    \n",
    "    model_scores = {}\n",
    "    \n",
    "    for name, model in models.items():\n",
    "        model.fit(X_train,y_train)\n",
    "        model_scores[name] = model.score(X_test,y_test)\n",
    "\n",
    "    model_scores = pd.DataFrame(model_scores, index=['Score']).transpose()\n",
    "    model_scores = model_scores.sort_values('Score')\n",
    "        \n",
    "    return model_scores"
   ]
  },
  {
   "cell_type": "code",
   "execution_count": 300,
   "metadata": {
    "execution": {
     "iopub.execute_input": "2022-03-01T14:55:27.238744Z",
     "iopub.status.busy": "2022-03-01T14:55:27.23836Z",
     "iopub.status.idle": "2022-03-01T14:55:27.247491Z",
     "shell.execute_reply": "2022-03-01T14:55:27.246654Z",
     "shell.execute_reply.started": "2022-03-01T14:55:27.238715Z"
    }
   },
   "outputs": [],
   "source": [
    "models = {'LogisticRegression': LogisticRegression(max_iter=10000),\n",
    "          'KNeighborsClassifier': KNeighborsClassifier(),\n",
    "          'SVC': SVC(),\n",
    "          'DecisionTreeClassifier': DecisionTreeClassifier(),\n",
    "          'RandomForestClassifier': RandomForestClassifier(),\n",
    "          'AdaBoostClassifier': AdaBoostClassifier(),\n",
    "          'GradientBoostingClassifier': GradientBoostingClassifier(),\n",
    "          'XGBClassifier': XGBClassifier(),\n",
    "          'XGBRFClassifier': XGBRFClassifier(),\n",
    "          'LGBMClassifier':LGBMClassifier()}"
   ]
  },
  {
   "cell_type": "code",
   "execution_count": 301,
   "metadata": {
    "execution": {
     "iopub.execute_input": "2022-03-01T14:55:27.249348Z",
     "iopub.status.busy": "2022-03-01T14:55:27.248871Z",
     "iopub.status.idle": "2022-03-01T14:56:09.584391Z",
     "shell.execute_reply": "2022-03-01T14:56:09.58359Z",
     "shell.execute_reply.started": "2022-03-01T14:55:27.249316Z"
    }
   },
   "outputs": [
    {
     "name": "stdout",
     "output_type": "stream",
     "text": [
      "[15:07:18] WARNING: ../src/learner.cc:1115: Starting in XGBoost 1.3.0, the default evaluation metric used with the objective 'multi:softprob' was changed from 'merror' to 'mlogloss'. Explicitly set eval_metric if you'd like to restore the old behavior.\n",
      "[15:07:22] WARNING: ../src/learner.cc:1115: Starting in XGBoost 1.3.0, the default evaluation metric used with the objective 'multi:softprob' was changed from 'merror' to 'mlogloss'. Explicitly set eval_metric if you'd like to restore the old behavior.\n"
     ]
    }
   ],
   "source": [
    "baseline_model_scores = fit_and_score(models, X_train, X_test, y_train, y_test)"
   ]
  },
  {
   "cell_type": "code",
   "execution_count": 302,
   "metadata": {
    "execution": {
     "iopub.execute_input": "2022-03-01T14:56:09.590421Z",
     "iopub.status.busy": "2022-03-01T14:56:09.588532Z",
     "iopub.status.idle": "2022-03-01T14:56:09.602759Z",
     "shell.execute_reply": "2022-03-01T14:56:09.601105Z",
     "shell.execute_reply.started": "2022-03-01T14:56:09.590379Z"
    }
   },
   "outputs": [
    {
     "data": {
      "text/html": [
       "<div>\n",
       "<style scoped>\n",
       "    .dataframe tbody tr th:only-of-type {\n",
       "        vertical-align: middle;\n",
       "    }\n",
       "\n",
       "    .dataframe tbody tr th {\n",
       "        vertical-align: top;\n",
       "    }\n",
       "\n",
       "    .dataframe thead th {\n",
       "        text-align: right;\n",
       "    }\n",
       "</style>\n",
       "<table border=\"1\" class=\"dataframe\">\n",
       "  <thead>\n",
       "    <tr style=\"text-align: right;\">\n",
       "      <th></th>\n",
       "      <th>Score</th>\n",
       "    </tr>\n",
       "  </thead>\n",
       "  <tbody>\n",
       "    <tr>\n",
       "      <th>AdaBoostClassifier</th>\n",
       "      <td>0.538596</td>\n",
       "    </tr>\n",
       "    <tr>\n",
       "      <th>SVC</th>\n",
       "      <td>0.791228</td>\n",
       "    </tr>\n",
       "    <tr>\n",
       "      <th>DecisionTreeClassifier</th>\n",
       "      <td>0.815789</td>\n",
       "    </tr>\n",
       "    <tr>\n",
       "      <th>KNeighborsClassifier</th>\n",
       "      <td>0.833333</td>\n",
       "    </tr>\n",
       "    <tr>\n",
       "      <th>LogisticRegression</th>\n",
       "      <td>0.840351</td>\n",
       "    </tr>\n",
       "    <tr>\n",
       "      <th>XGBRFClassifier</th>\n",
       "      <td>0.845614</td>\n",
       "    </tr>\n",
       "    <tr>\n",
       "      <th>RandomForestClassifier</th>\n",
       "      <td>0.856140</td>\n",
       "    </tr>\n",
       "    <tr>\n",
       "      <th>XGBClassifier</th>\n",
       "      <td>0.856140</td>\n",
       "    </tr>\n",
       "    <tr>\n",
       "      <th>LGBMClassifier</th>\n",
       "      <td>0.857895</td>\n",
       "    </tr>\n",
       "    <tr>\n",
       "      <th>GradientBoostingClassifier</th>\n",
       "      <td>0.859649</td>\n",
       "    </tr>\n",
       "  </tbody>\n",
       "</table>\n",
       "</div>"
      ],
      "text/plain": [
       "                               Score\n",
       "AdaBoostClassifier          0.538596\n",
       "SVC                         0.791228\n",
       "DecisionTreeClassifier      0.815789\n",
       "KNeighborsClassifier        0.833333\n",
       "LogisticRegression          0.840351\n",
       "XGBRFClassifier             0.845614\n",
       "RandomForestClassifier      0.856140\n",
       "XGBClassifier               0.856140\n",
       "LGBMClassifier              0.857895\n",
       "GradientBoostingClassifier  0.859649"
      ]
     },
     "execution_count": 302,
     "metadata": {},
     "output_type": "execute_result"
    }
   ],
   "source": [
    "baseline_model_scores"
   ]
  },
  {
   "cell_type": "code",
   "execution_count": 303,
   "metadata": {
    "execution": {
     "iopub.execute_input": "2022-03-01T14:56:09.605324Z",
     "iopub.status.busy": "2022-03-01T14:56:09.604942Z",
     "iopub.status.idle": "2022-03-01T14:56:09.849426Z",
     "shell.execute_reply": "2022-03-01T14:56:09.848323Z",
     "shell.execute_reply.started": "2022-03-01T14:56:09.605291Z"
    }
   },
   "outputs": [
    {
     "data": {
      "image/png": "[encoded data removed]",
      "text/plain": [
       "<Figure size 1440x720 with 1 Axes>"
      ]
     },
     "metadata": {
      "needs_background": "light"
     },
     "output_type": "display_data"
    }
   ],
   "source": [
    "plt.figure(figsize=(20,10))\n",
    "sns.barplot(data=baseline_model_scores.sort_values('Score').T)\n",
    "plt.title('Baseline Model Precision Score')\n",
    "plt.xticks(rotation=90);"
   ]
  },
  {
   "cell_type": "markdown",
   "metadata": {},
   "source": [
    "Comparing all the models, we see that\n",
    "GradientBoostingClassifier \t0.859649\n",
    "    \n",
    "Hence we can use this method to train our model."
   ]
  },
  {
   "cell_type": "markdown",
   "metadata": {},
   "source": [
    "## Random Search CV"
   ]
  },
  {
   "cell_type": "code",
   "execution_count": 304,
   "metadata": {
    "execution": {
     "iopub.execute_input": "2022-03-01T14:56:09.851074Z",
     "iopub.status.busy": "2022-03-01T14:56:09.85079Z",
     "iopub.status.idle": "2022-03-01T14:56:09.855496Z",
     "shell.execute_reply": "2022-03-01T14:56:09.854354Z",
     "shell.execute_reply.started": "2022-03-01T14:56:09.851046Z"
    }
   },
   "outputs": [],
   "source": [
    "from sklearn.model_selection import RandomizedSearchCV\n",
    "from warnings import filterwarnings"
   ]
  },
  {
   "cell_type": "code",
   "execution_count": 305,
   "metadata": {
    "execution": {
     "iopub.execute_input": "2022-03-01T14:56:09.857792Z",
     "iopub.status.busy": "2022-03-01T14:56:09.857107Z",
     "iopub.status.idle": "2022-03-01T14:56:09.867113Z",
     "shell.execute_reply": "2022-03-01T14:56:09.866095Z",
     "shell.execute_reply.started": "2022-03-01T14:56:09.85774Z"
    }
   },
   "outputs": [],
   "source": [
    "filterwarnings('ignore')"
   ]
  },
  {
   "cell_type": "code",
   "execution_count": 306,
   "metadata": {
    "execution": {
     "iopub.execute_input": "2022-03-01T14:56:09.868846Z",
     "iopub.status.busy": "2022-03-01T14:56:09.868303Z",
     "iopub.status.idle": "2022-03-01T14:56:09.879764Z",
     "shell.execute_reply": "2022-03-01T14:56:09.878914Z",
     "shell.execute_reply.started": "2022-03-01T14:56:09.868802Z"
    }
   },
   "outputs": [],
   "source": [
    "def randomsearch_cv_scores(models, params, X_train, X_test, y_train, y_test):\n",
    "    np.random.seed(42)\n",
    "    \n",
    "    model_rs_scores = {}\n",
    "    model_rs_best_param = {}\n",
    "    \n",
    "    for name, model in models.items():\n",
    "        rs_model = RandomizedSearchCV(model,\n",
    "                                     param_distributions=params[name],\n",
    "                                      cv=5,\n",
    "                                     n_iter=20,n_jobs=1,\n",
    "                                     verbose=0)        \n",
    "        rs_model.fit(X_train,y_train)\n",
    "        model_rs_scores[name] = rs_model.score(X_test,y_test)\n",
    "        model_rs_best_param[name] = rs_model.best_params_\n",
    "        \n",
    "    return model_rs_scores, model_rs_best_param"
   ]
  },
  {
   "cell_type": "markdown",
   "metadata": {},
   "source": [
    "## RS Model 1 GradientBoostingClassifier"
   ]
  },
  {
   "cell_type": "code",
   "execution_count": 307,
   "metadata": {
    "execution": {
     "iopub.execute_input": "2022-03-01T14:56:09.881694Z",
     "iopub.status.busy": "2022-03-01T14:56:09.881181Z",
     "iopub.status.idle": "2022-03-01T14:56:09.902973Z",
     "shell.execute_reply": "2022-03-01T14:56:09.901962Z",
     "shell.execute_reply.started": "2022-03-01T14:56:09.88166Z"
    }
   },
   "outputs": [],
   "source": [
    "models = {'GradientBoostingClassifier': GradientBoostingClassifier()}\n",
    "params = {'GradientBoostingClassifier':{'loss':['deviance','exponential'],\n",
    "                                       'learning_rate': [0.001,0.01,0.1,0.5,1],\n",
    "                                        'n_estimators': [10,30,50,100,200,300],\n",
    "                                        'criterion': ['friedman_mse','mse'],\n",
    "                                        'min_samples_split':[2,0.1,0.5,0.9,1.0],\n",
    "                                        'min_samples_leaf': [1,2,0.1,0.5,0.9,1.0],\n",
    "                                        'max_depth': [2,3,5,10,20,50,100],\n",
    "                                        'max_features': ['auto','sqrt','log2'],\n",
    "                                        'ccp_alpha': [0.0,0.001, 0.01,0.1]\n",
    "                                       },\n",
    "         }"
   ]
  },
  {
   "cell_type": "code",
   "execution_count": 308,
   "metadata": {
    "execution": {
     "iopub.execute_input": "2022-03-01T14:56:09.904987Z",
     "iopub.status.busy": "2022-03-01T14:56:09.904408Z",
     "iopub.status.idle": "2022-03-01T14:56:50.578928Z",
     "shell.execute_reply": "2022-03-01T14:56:50.577765Z",
     "shell.execute_reply.started": "2022-03-01T14:56:09.90495Z"
    }
   },
   "outputs": [],
   "source": [
    "model_rs_scores_1, model_rs_best_param_1 = randomsearch_cv_scores(models, params, X_train, X_test, y_train, y_test)"
   ]
  },
  {
   "cell_type": "code",
   "execution_count": 309,
   "metadata": {
    "execution": {
     "iopub.execute_input": "2022-03-01T14:56:50.581125Z",
     "iopub.status.busy": "2022-03-01T14:56:50.580826Z",
     "iopub.status.idle": "2022-03-01T14:56:50.586913Z",
     "shell.execute_reply": "2022-03-01T14:56:50.585955Z",
     "shell.execute_reply.started": "2022-03-01T14:56:50.581096Z"
    }
   },
   "outputs": [
    {
     "data": {
      "text/plain": [
       "{'GradientBoostingClassifier': 0.6859649122807018}"
      ]
     },
     "execution_count": 309,
     "metadata": {},
     "output_type": "execute_result"
    }
   ],
   "source": [
    "model_rs_scores_1"
   ]
  },
  {
   "cell_type": "code",
   "execution_count": 310,
   "metadata": {
    "execution": {
     "iopub.execute_input": "2022-03-01T14:56:50.589021Z",
     "iopub.status.busy": "2022-03-01T14:56:50.588418Z",
     "iopub.status.idle": "2022-03-01T14:56:50.600265Z",
     "shell.execute_reply": "2022-03-01T14:56:50.59952Z",
     "shell.execute_reply.started": "2022-03-01T14:56:50.588976Z"
    }
   },
   "outputs": [
    {
     "data": {
      "text/plain": [
       "{'GradientBoostingClassifier': {'n_estimators': 100,\n",
       "  'min_samples_split': 2,\n",
       "  'min_samples_leaf': 0.1,\n",
       "  'max_features': 'sqrt',\n",
       "  'max_depth': 5,\n",
       "  'loss': 'deviance',\n",
       "  'learning_rate': 0.5,\n",
       "  'criterion': 'friedman_mse',\n",
       "  'ccp_alpha': 0.01}}"
      ]
     },
     "execution_count": 310,
     "metadata": {},
     "output_type": "execute_result"
    }
   ],
   "source": [
    "model_rs_best_param_1"
   ]
  },
  {
   "cell_type": "markdown",
   "metadata": {},
   "source": [
    "## RS Model 2 GradientBoostingClassifier"
   ]
  },
  {
   "cell_type": "code",
   "execution_count": 311,
   "metadata": {
    "execution": {
     "iopub.execute_input": "2022-03-01T14:56:50.602141Z",
     "iopub.status.busy": "2022-03-01T14:56:50.601576Z",
     "iopub.status.idle": "2022-03-01T14:56:50.612497Z",
     "shell.execute_reply": "2022-03-01T14:56:50.611317Z",
     "shell.execute_reply.started": "2022-03-01T14:56:50.602099Z"
    }
   },
   "outputs": [],
   "source": [
    "params = {'GradientBoostingClassifier':{'loss':['deviance','exponential'],\n",
    "                                       'learning_rate': [0.2,0.3,0.5,0.8],\n",
    "                                        'n_estimators': [80,90,100,120,140],\n",
    "                                        'criterion': ['friedman_mse',],\n",
    "                                        'min_samples_split':[2],\n",
    "                                        'min_samples_leaf': [0.05,0.1,0.2,0.3],\n",
    "                                        'max_depth': [4,5,6,7,8,9],\n",
    "                                        'max_features': ['sqrt'],\n",
    "                                        'ccp_alpha': [0.0,0.001, 0.005]\n",
    "                                       }\n",
    "         }"
   ]
  },
  {
   "cell_type": "code",
   "execution_count": 312,
   "metadata": {
    "execution": {
     "iopub.execute_input": "2022-03-01T14:56:50.614639Z",
     "iopub.status.busy": "2022-03-01T14:56:50.614054Z",
     "iopub.status.idle": "2022-03-01T14:58:38.889449Z",
     "shell.execute_reply": "2022-03-01T14:58:38.888242Z",
     "shell.execute_reply.started": "2022-03-01T14:56:50.614598Z"
    }
   },
   "outputs": [],
   "source": [
    "model_rs_scores_2, model_rs_best_param_2 = randomsearch_cv_scores(models, params, X_train, X_test, y_train, y_test)"
   ]
  },
  {
   "cell_type": "code",
   "execution_count": 313,
   "metadata": {
    "execution": {
     "iopub.execute_input": "2022-03-01T14:58:38.891391Z",
     "iopub.status.busy": "2022-03-01T14:58:38.891098Z",
     "iopub.status.idle": "2022-03-01T14:58:38.89718Z",
     "shell.execute_reply": "2022-03-01T14:58:38.896276Z",
     "shell.execute_reply.started": "2022-03-01T14:58:38.891363Z"
    }
   },
   "outputs": [
    {
     "data": {
      "text/plain": [
       "{'GradientBoostingClassifier': 0.8578947368421053}"
      ]
     },
     "execution_count": 313,
     "metadata": {},
     "output_type": "execute_result"
    }
   ],
   "source": [
    "model_rs_scores_2"
   ]
  },
  {
   "cell_type": "code",
   "execution_count": 314,
   "metadata": {
    "execution": {
     "iopub.execute_input": "2022-03-01T14:58:38.898794Z",
     "iopub.status.busy": "2022-03-01T14:58:38.898432Z",
     "iopub.status.idle": "2022-03-01T14:58:38.910476Z",
     "shell.execute_reply": "2022-03-01T14:58:38.909569Z",
     "shell.execute_reply.started": "2022-03-01T14:58:38.898755Z"
    }
   },
   "outputs": [
    {
     "data": {
      "text/plain": [
       "{'GradientBoostingClassifier': {'n_estimators': 140,\n",
       "  'min_samples_split': 2,\n",
       "  'min_samples_leaf': 0.1,\n",
       "  'max_features': 'sqrt',\n",
       "  'max_depth': 6,\n",
       "  'loss': 'deviance',\n",
       "  'learning_rate': 0.8,\n",
       "  'criterion': 'friedman_mse',\n",
       "  'ccp_alpha': 0.0}}"
      ]
     },
     "execution_count": 314,
     "metadata": {},
     "output_type": "execute_result"
    }
   ],
   "source": [
    "model_rs_best_param_2"
   ]
  },
  {
   "cell_type": "markdown",
   "metadata": {},
   "source": [
    "## RS Model 3 GradientBoostingClassifier"
   ]
  },
  {
   "cell_type": "code",
   "execution_count": 315,
   "metadata": {
    "execution": {
     "iopub.execute_input": "2022-03-01T14:58:38.912094Z",
     "iopub.status.busy": "2022-03-01T14:58:38.911808Z",
     "iopub.status.idle": "2022-03-01T14:58:38.920618Z",
     "shell.execute_reply": "2022-03-01T14:58:38.919843Z",
     "shell.execute_reply.started": "2022-03-01T14:58:38.912066Z"
    }
   },
   "outputs": [],
   "source": [
    "params = {'GradientBoostingClassifier':{'loss':['deviance'],\n",
    "                                       'learning_rate': [0.6,0.7,0.8,0.9],\n",
    "                                        'n_estimators': [130,140,150],\n",
    "                                        'criterion': ['friedman_mse'],\n",
    "                                        'min_samples_split':[2,3,4,5],\n",
    "                                        'min_samples_leaf': [0.1,0.15],\n",
    "                                        'max_depth': [6,7],\n",
    "                                        'max_features': ['sqrt'],\n",
    "                                        'ccp_alpha': [0.0,0.001]\n",
    "                                       }\n",
    "         }"
   ]
  },
  {
   "cell_type": "code",
   "execution_count": 316,
   "metadata": {
    "execution": {
     "iopub.execute_input": "2022-03-01T14:58:38.922124Z",
     "iopub.status.busy": "2022-03-01T14:58:38.92184Z",
     "iopub.status.idle": "2022-03-01T15:03:35.252232Z",
     "shell.execute_reply": "2022-03-01T15:03:35.250981Z",
     "shell.execute_reply.started": "2022-03-01T14:58:38.922096Z"
    }
   },
   "outputs": [],
   "source": [
    "model_rs_scores_3, model_rs_best_param_3 = randomsearch_cv_scores(models, params, X_train, X_test, y_train, y_test)"
   ]
  },
  {
   "cell_type": "code",
   "execution_count": 317,
   "metadata": {
    "execution": {
     "iopub.execute_input": "2022-03-01T15:03:35.25406Z",
     "iopub.status.busy": "2022-03-01T15:03:35.253762Z",
     "iopub.status.idle": "2022-03-01T15:03:35.259998Z",
     "shell.execute_reply": "2022-03-01T15:03:35.259003Z",
     "shell.execute_reply.started": "2022-03-01T15:03:35.254023Z"
    }
   },
   "outputs": [
    {
     "data": {
      "text/plain": [
       "{'GradientBoostingClassifier': 0.8385964912280702}"
      ]
     },
     "execution_count": 317,
     "metadata": {},
     "output_type": "execute_result"
    }
   ],
   "source": [
    "model_rs_scores_3"
   ]
  },
  {
   "cell_type": "code",
   "execution_count": 318,
   "metadata": {
    "execution": {
     "iopub.execute_input": "2022-03-01T15:03:35.261775Z",
     "iopub.status.busy": "2022-03-01T15:03:35.26131Z",
     "iopub.status.idle": "2022-03-01T15:03:35.274409Z",
     "shell.execute_reply": "2022-03-01T15:03:35.273312Z",
     "shell.execute_reply.started": "2022-03-01T15:03:35.261727Z"
    }
   },
   "outputs": [
    {
     "data": {
      "text/plain": [
       "{'GradientBoostingClassifier': {'n_estimators': 140,\n",
       "  'min_samples_split': 5,\n",
       "  'min_samples_leaf': 0.15,\n",
       "  'max_features': 'sqrt',\n",
       "  'max_depth': 6,\n",
       "  'loss': 'deviance',\n",
       "  'learning_rate': 0.8,\n",
       "  'criterion': 'friedman_mse',\n",
       "  'ccp_alpha': 0.0}}"
      ]
     },
     "execution_count": 318,
     "metadata": {},
     "output_type": "execute_result"
    }
   ],
   "source": [
    "model_rs_best_param_3"
   ]
  },
  {
   "cell_type": "markdown",
   "metadata": {},
   "source": [
    "## RS Model 4 GradientBoostingClassifier"
   ]
  },
  {
   "cell_type": "code",
   "execution_count": 319,
   "metadata": {
    "execution": {
     "iopub.execute_input": "2022-03-01T15:03:35.276598Z",
     "iopub.status.busy": "2022-03-01T15:03:35.276001Z",
     "iopub.status.idle": "2022-03-01T15:03:35.286071Z",
     "shell.execute_reply": "2022-03-01T15:03:35.284973Z",
     "shell.execute_reply.started": "2022-03-01T15:03:35.276554Z"
    }
   },
   "outputs": [],
   "source": [
    "params = {'GradientBoostingClassifier':{'loss':['deviance'],\n",
    "                                       'learning_rate': [0.6,0.7,0.8,0.9],\n",
    "                                        'n_estimators': [125,130,135],\n",
    "                                        'criterion': ['friedman_mse'],\n",
    "                                        'min_samples_split':[5,6,7,8,9],\n",
    "                                        'min_samples_leaf': [0.1,0.0],\n",
    "                                        'max_depth': [7,8,10,50,100],\n",
    "                                        'max_features': ['sqrt'],\n",
    "                                        'ccp_alpha': [0.0,0.001]\n",
    "                                       }\n",
    "         }"
   ]
  },
  {
   "cell_type": "code",
   "execution_count": 320,
   "metadata": {
    "execution": {
     "iopub.execute_input": "2022-03-01T15:03:35.288444Z",
     "iopub.status.busy": "2022-03-01T15:03:35.287858Z",
     "iopub.status.idle": "2022-03-01T15:06:07.433093Z",
     "shell.execute_reply": "2022-03-01T15:06:07.431784Z",
     "shell.execute_reply.started": "2022-03-01T15:03:35.288396Z"
    }
   },
   "outputs": [],
   "source": [
    "model_rs_scores_4, model_rs_best_param_4 = randomsearch_cv_scores(models, params, X_train, X_test, y_train, y_test)"
   ]
  },
  {
   "cell_type": "code",
   "execution_count": 321,
   "metadata": {
    "execution": {
     "iopub.execute_input": "2022-03-01T15:06:07.435707Z",
     "iopub.status.busy": "2022-03-01T15:06:07.435241Z",
     "iopub.status.idle": "2022-03-01T15:06:07.443218Z",
     "shell.execute_reply": "2022-03-01T15:06:07.44226Z",
     "shell.execute_reply.started": "2022-03-01T15:06:07.43566Z"
    }
   },
   "outputs": [
    {
     "data": {
      "text/plain": [
       "{'GradientBoostingClassifier': 0.856140350877193}"
      ]
     },
     "execution_count": 321,
     "metadata": {},
     "output_type": "execute_result"
    }
   ],
   "source": [
    "model_rs_scores_4"
   ]
  },
  {
   "cell_type": "code",
   "execution_count": 322,
   "metadata": {
    "execution": {
     "iopub.execute_input": "2022-03-01T15:06:07.445243Z",
     "iopub.status.busy": "2022-03-01T15:06:07.444677Z",
     "iopub.status.idle": "2022-03-01T15:06:07.457215Z",
     "shell.execute_reply": "2022-03-01T15:06:07.456426Z",
     "shell.execute_reply.started": "2022-03-01T15:06:07.445203Z"
    }
   },
   "outputs": [
    {
     "data": {
      "text/plain": [
       "{'GradientBoostingClassifier': 0.8385964912280702}"
      ]
     },
     "execution_count": 322,
     "metadata": {},
     "output_type": "execute_result"
    }
   ],
   "source": [
    "model_rs_scores_3"
   ]
  },
  {
   "cell_type": "code",
   "execution_count": 323,
   "metadata": {
    "execution": {
     "iopub.execute_input": "2022-03-01T15:06:07.459022Z",
     "iopub.status.busy": "2022-03-01T15:06:07.458655Z",
     "iopub.status.idle": "2022-03-01T15:06:07.471328Z",
     "shell.execute_reply": "2022-03-01T15:06:07.470046Z",
     "shell.execute_reply.started": "2022-03-01T15:06:07.458985Z"
    }
   },
   "outputs": [
    {
     "data": {
      "text/plain": [
       "{'GradientBoostingClassifier': {'n_estimators': 135,\n",
       "  'min_samples_split': 8,\n",
       "  'min_samples_leaf': 0.1,\n",
       "  'max_features': 'sqrt',\n",
       "  'max_depth': 50,\n",
       "  'loss': 'deviance',\n",
       "  'learning_rate': 0.6,\n",
       "  'criterion': 'friedman_mse',\n",
       "  'ccp_alpha': 0.0}}"
      ]
     },
     "execution_count": 323,
     "metadata": {},
     "output_type": "execute_result"
    }
   ],
   "source": [
    "model_rs_best_param_4"
   ]
  },
  {
   "cell_type": "markdown",
   "metadata": {},
   "source": [
    "# Model Evaluation"
   ]
  },
  {
   "cell_type": "code",
   "execution_count": 324,
   "metadata": {
    "execution": {
     "iopub.execute_input": "2022-03-01T15:06:07.473311Z",
     "iopub.status.busy": "2022-03-01T15:06:07.472844Z",
     "iopub.status.idle": "2022-03-01T15:06:07.480739Z",
     "shell.execute_reply": "2022-03-01T15:06:07.47981Z",
     "shell.execute_reply.started": "2022-03-01T15:06:07.47328Z"
    }
   },
   "outputs": [],
   "source": [
    "from sklearn.metrics import classification_report, plot_confusion_matrix \n",
    "from sklearn.model_selection import cross_val_score"
   ]
  },
  {
   "cell_type": "code",
   "execution_count": 325,
   "metadata": {
    "execution": {
     "iopub.execute_input": "2022-03-01T15:06:07.482921Z",
     "iopub.status.busy": "2022-03-01T15:06:07.482325Z",
     "iopub.status.idle": "2022-03-01T15:06:07.491777Z",
     "shell.execute_reply": "2022-03-01T15:06:07.490865Z",
     "shell.execute_reply.started": "2022-03-01T15:06:07.482881Z"
    }
   },
   "outputs": [],
   "source": [
    "model = GradientBoostingClassifier(n_estimators=125,\n",
    "                                   min_samples_split=5,\n",
    "                                   min_samples_leaf=0.1, \n",
    "                                   max_features='sqrt',\n",
    "                                   max_depth = 50,\n",
    "                                   loss = 'deviance',\n",
    "                                   learning_rate = 0.7,\n",
    "                                   criterion='friedman_mse',\n",
    "                                   ccp_alpha = 0.0\n",
    "                                  )"
   ]
  },
  {
   "cell_type": "code",
   "execution_count": 326,
   "metadata": {
    "execution": {
     "iopub.execute_input": "2022-03-01T15:06:07.493459Z",
     "iopub.status.busy": "2022-03-01T15:06:07.493051Z",
     "iopub.status.idle": "2022-03-01T15:06:11.027357Z",
     "shell.execute_reply": "2022-03-01T15:06:11.026334Z",
     "shell.execute_reply.started": "2022-03-01T15:06:07.493417Z"
    }
   },
   "outputs": [],
   "source": [
    "model.fit(X_train,y_train)\n",
    "y_preds = model.predict(X_test)"
   ]
  },
  {
   "cell_type": "code",
   "execution_count": 327,
   "metadata": {
    "execution": {
     "iopub.execute_input": "2022-03-01T15:06:11.029667Z",
     "iopub.status.busy": "2022-03-01T15:06:11.029194Z",
     "iopub.status.idle": "2022-03-01T15:06:11.064539Z",
     "shell.execute_reply": "2022-03-01T15:06:11.063755Z",
     "shell.execute_reply.started": "2022-03-01T15:06:11.029621Z"
    }
   },
   "outputs": [
    {
     "name": "stdout",
     "output_type": "stream",
     "text": [
      "                 precision    recall  f1-score   support\n",
      "\n",
      "             TV       0.88      0.93      0.91        57\n",
      "   baby_monitor       0.96      1.00      0.98        48\n",
      "         lights       0.53      0.60      0.56        48\n",
      "  motion_sensor       0.98      0.97      0.98        67\n",
      "security_camera       1.00      1.00      1.00        58\n",
      " smoke_detector       1.00      0.98      0.99        64\n",
      "         socket       0.50      0.49      0.50        57\n",
      "     thermostat       0.97      0.97      0.97        67\n",
      "          watch       0.97      0.91      0.94        69\n",
      "   water_sensor       0.53      0.46      0.49        35\n",
      "\n",
      "       accuracy                           0.86       570\n",
      "      macro avg       0.83      0.83      0.83       570\n",
      "   weighted avg       0.86      0.86      0.86       570\n",
      "\n"
     ]
    }
   ],
   "source": [
    "print(classification_report(y_test,y_preds))"
   ]
  },
  {
   "cell_type": "code",
   "execution_count": 328,
   "metadata": {
    "execution": {
     "iopub.execute_input": "2022-03-01T15:06:11.06609Z",
     "iopub.status.busy": "2022-03-01T15:06:11.065674Z",
     "iopub.status.idle": "2022-03-01T15:06:11.704669Z",
     "shell.execute_reply": "2022-03-01T15:06:11.703599Z",
     "shell.execute_reply.started": "2022-03-01T15:06:11.066057Z"
    }
   },
   "outputs": [
    {
     "data": {
      "text/plain": [
       "<sklearn.metrics._plot.confusion_matrix.ConfusionMatrixDisplay at 0x7f82c5419d00>"
      ]
     },
     "execution_count": 328,
     "metadata": {},
     "output_type": "execute_result"
    },
    {
     "data": {
      "image/png": "[encoded data removed]",
      "text/plain": [
       "<Figure size 432x288 with 2 Axes>"
      ]
     },
     "metadata": {
      "needs_background": "light"
     },
     "output_type": "display_data"
    }
   ],
   "source": [
    "plot_confusion_matrix(model,X_test,y_test)"
   ]
  },
  {
   "cell_type": "markdown",
   "metadata": {},
   "source": [
    "## Evalution using cross-validation"
   ]
  },
  {
   "cell_type": "code",
   "execution_count": 329,
   "metadata": {
    "execution": {
     "iopub.execute_input": "2022-03-01T15:06:11.706757Z",
     "iopub.status.busy": "2022-03-01T15:06:11.706317Z",
     "iopub.status.idle": "2022-03-01T15:06:11.714552Z",
     "shell.execute_reply": "2022-03-01T15:06:11.71313Z",
     "shell.execute_reply.started": "2022-03-01T15:06:11.706712Z"
    }
   },
   "outputs": [],
   "source": [
    "def get_cv_score(model, X, y, cv=5):\n",
    "    \n",
    "    np.random.seed(42)\n",
    "    cv_accuracy = cross_val_score(model,X,y,cv=5,\n",
    "                         scoring='accuracy')\n",
    "    print(f'Cross Validaion accuracy Scores: {cv_accuracy}')\n",
    "    print(f'Cross Validation accuracy Mean Score: {cv_accuracy.mean()}')\n",
    "      \n",
    "    \n",
    "    cv_merics = pd.DataFrame({'Accuracy': cv_accuracy.mean()}, index=[0])\n",
    "    \n",
    "    return cv_merics\n"
   ]
  },
  {
   "cell_type": "code",
   "execution_count": 330,
   "metadata": {
    "execution": {
     "iopub.execute_input": "2022-03-01T15:06:11.717185Z",
     "iopub.status.busy": "2022-03-01T15:06:11.716722Z",
     "iopub.status.idle": "2022-03-01T15:06:31.376694Z",
     "shell.execute_reply": "2022-03-01T15:06:31.375334Z",
     "shell.execute_reply.started": "2022-03-01T15:06:11.717139Z"
    }
   },
   "outputs": [
    {
     "name": "stdout",
     "output_type": "stream",
     "text": [
      "Cross Validaion accuracy Scores: [0.75       0.85       0.87105263 0.87368421 0.89210526]\n",
      "Cross Validation accuracy Mean Score: 0.8473684210526317\n"
     ]
    }
   ],
   "source": [
    "cv_merics = get_cv_score(model, X, y, cv=5)"
   ]
  },
  {
   "cell_type": "code",
   "execution_count": 331,
   "metadata": {
    "execution": {
     "iopub.execute_input": "2022-03-01T15:06:31.378842Z",
     "iopub.status.busy": "2022-03-01T15:06:31.378531Z",
     "iopub.status.idle": "2022-03-01T15:06:31.388467Z",
     "shell.execute_reply": "2022-03-01T15:06:31.387489Z",
     "shell.execute_reply.started": "2022-03-01T15:06:31.378807Z"
    }
   },
   "outputs": [
    {
     "data": {
      "text/html": [
       "<div>\n",
       "<style scoped>\n",
       "    .dataframe tbody tr th:only-of-type {\n",
       "        vertical-align: middle;\n",
       "    }\n",
       "\n",
       "    .dataframe tbody tr th {\n",
       "        vertical-align: top;\n",
       "    }\n",
       "\n",
       "    .dataframe thead th {\n",
       "        text-align: right;\n",
       "    }\n",
       "</style>\n",
       "<table border=\"1\" class=\"dataframe\">\n",
       "  <thead>\n",
       "    <tr style=\"text-align: right;\">\n",
       "      <th></th>\n",
       "      <th>Accuracy</th>\n",
       "    </tr>\n",
       "  </thead>\n",
       "  <tbody>\n",
       "    <tr>\n",
       "      <th>0</th>\n",
       "      <td>0.847368</td>\n",
       "    </tr>\n",
       "  </tbody>\n",
       "</table>\n",
       "</div>"
      ],
      "text/plain": [
       "   Accuracy\n",
       "0  0.847368"
      ]
     },
     "execution_count": 331,
     "metadata": {},
     "output_type": "execute_result"
    }
   ],
   "source": [
    "cv_merics"
   ]
  },
  {
   "cell_type": "markdown",
   "metadata": {},
   "source": [
    "Accuracy is appoximately = 85%"
   ]
  },
  {
   "cell_type": "code",
   "execution_count": null,
   "metadata": {},
   "outputs": [],
   "source": []
  }
 ],
 "metadata": {
  "kernelspec": {
   "display_name": "Python 3 (ipykernel)",
   "language": "python",
   "name": "python3"
  },
  "language_info": {
   "codemirror_mode": {
    "name": "ipython",
    "version": 3
   },
   "file_extension": ".py",
   "mimetype": "text/x-python",
   "name": "python",
   "nbconvert_exporter": "python",
   "pygments_lexer": "ipython3",
   "version": "3.9.7"
  }
 },
 "nbformat": 4,
 "nbformat_minor": 4
}
